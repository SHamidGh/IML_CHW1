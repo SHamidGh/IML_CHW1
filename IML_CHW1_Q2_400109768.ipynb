{
  "nbformat": 4,
  "nbformat_minor": 0,
  "metadata": {
    "colab": {
      "provenance": []
    },
    "kernelspec": {
      "name": "python3",
      "display_name": "Python 3"
    },
    "language_info": {
      "name": "python"
    }
  },
  "cells": [
    {
      "cell_type": "markdown",
      "source": [
        "<h1 align=\"center\">Introduction to Machine Learning - 25737-2</h1>\n",
        "<h4 align=\"center\">Dr. R. Amiri</h4>\n",
        "<h4 align=\"center\">Sharif University of Technology, Spring 2024</h4>\n",
        "\n",
        "\n",
        "**<font color='red'>Plagiarism is strongly prohibited!</font>**\n",
        "\n",
        "\n",
        "**Student Name**: Seyed Hamid Ghasemi\n",
        "\n",
        "**Student ID**: 400109768\n",
        "\n",
        "\n",
        "\n"
      ],
      "metadata": {
        "id": "hfJGDtRw9oho"
      }
    },
    {
      "cell_type": "markdown",
      "source": [
        "# Logistic Regression\n"
      ],
      "metadata": {
        "id": "uYr1kKoe96Vz"
      }
    },
    {
      "cell_type": "code",
      "source": [
        "# import necessary libraries\n",
        "import pandas as pd\n",
        "import numpy as np\n",
        "import torch\n",
        "import torch.nn as nn\n",
        "import torch.optim as optim\n",
        "from sklearn.model_selection import train_test_split\n",
        "from sklearn.preprocessing import StandardScaler\n",
        "from sklearn.metrics import accuracy_score, precision_score, recall_score, f1_score\n",
        "from sklearn.linear_model import LogisticRegression\n",
        "import torch\n",
        "from google.colab import files\n",
        "import torch.nn as nn\n",
        "import torch.optim as optim\n",
        "import matplotlib.pyplot as plt\n",
        "from sklearn.model_selection import GridSearchCV\n",
        "from sklearn.model_selection import KFold\n",
        "import warnings\n",
        "\n",
        "\n"
      ],
      "metadata": {
        "id": "dznS95aH91ha"
      },
      "execution_count": 2,
      "outputs": []
    },
    {
      "cell_type": "code",
      "source": [
        "warnings.filterwarnings('ignore', category=UserWarning)"
      ],
      "metadata": {
        "id": "ZrEbUyleaMiT"
      },
      "execution_count": 143,
      "outputs": []
    },
    {
      "cell_type": "markdown",
      "source": [
        "**Task:** Implement your own Logistic Regression model, and test it on the given dataset of Logistic_question.csv!\n"
      ],
      "metadata": {
        "id": "EKIxczvy-Ycb"
      }
    },
    {
      "cell_type": "code",
      "source": [
        "class MyLogisticRegression:\n",
        "    # Your code goes here!\n",
        "    # This class must have an __init__ method, a loss function, a fit function, and a predict function. You also need to make your code runnable on gpu!\n",
        "    def __init__(self, alpha=0.05, n_iterations=1000, device='cuda'):\n",
        "        self.l_rate = alpha\n",
        "        self.device = torch.device(device if torch.cuda.is_available() else 'cpu')\n",
        "        self.n_iterations = n_iterations\n",
        "        self.theta = None\n",
        "\n",
        "    def sigmoid(self, Z):\n",
        "        Z = torch.tensor(Z, dtype=torch.float32, device=self.device)\n",
        "        return 1 / (1 + torch.exp(-Z))\n",
        "\n",
        "    def loss(self, theta, X, y):\n",
        "        m, n = X.shape\n",
        "        h = self.sigmoid(X @ theta)\n",
        "        loss = -1/m*(torch.sum(y * np.log(h) + (1 - y) * np.log(1 - h)))\n",
        "        return loss\n",
        "\n",
        "    def computeGradient(self, X, y):\n",
        "        m, n = X.shape\n",
        "        h = self.sigmoid(X @ self.theta)\n",
        "        grad = nn.Parameter(torch.zeros(self.theta.shape[0], device=self.device, requires_grad=True))\n",
        "        with torch.no_grad():\n",
        "          for i in range(n):\n",
        "              temp =  X[:,i]\n",
        "              grad[i] = 1/m *  torch.tensordot((h-y), temp, dims=1)\n",
        "        return grad\n",
        "\n",
        "    def fit(self, X, y):\n",
        "        X = np.insert(X, 0, np.ones((X.shape[0])), axis=1)\n",
        "        m, n = X.shape\n",
        "        X_tensor = torch.tensor(X, dtype=torch.float32, device=self.device)\n",
        "        y_tensor = torch.tensor(np.array(y), dtype=torch.long, device=self.device)\n",
        "        self.theta = nn.Parameter(torch.zeros(n, device=self.device, requires_grad=True))\n",
        "        for i in range(self.n_iterations):\n",
        "            grad = self.computeGradient(X_tensor, y_tensor)\n",
        "            # Update the parameters\n",
        "            theta_new = self.theta - self.l_rate * grad\n",
        "            self.theta = theta_new\n",
        "        pass\n",
        "\n",
        "\n",
        "    def predict(self, X):\n",
        "        X = np.insert(X, 0, np.ones((X.shape[0])), axis=1)\n",
        "        X_tensor = torch.tensor(X, dtype=torch.float32, device=self.device)\n",
        "        h = self.sigmoid(X_tensor @ self.theta)\n",
        "        Y = (h >= 0.5).long()\n",
        "        return Y\n",
        "\n",
        "    pass"
      ],
      "metadata": {
        "id": "D9vXQGuN-OX7"
      },
      "execution_count": 135,
      "outputs": []
    },
    {
      "cell_type": "markdown",
      "source": [
        "**Task:** Test your model on the given dataset. You must split your data into train and test, with a 0.2 split, then normalize your data using X_train data. Finally, report 4 different evaluation metrics of the model on the test set. (You might want to first make the Target column binary!)"
      ],
      "metadata": {
        "id": "-jWGydJp-hnj"
      }
    },
    {
      "cell_type": "code",
      "source": [
        "# Your code goes here!\n",
        "data = pd.read_csv(\"Logistic_question.csv\")\n",
        "# Convert the target column to binary\n",
        "data['Target'] = (data['Target'] > 0.5).astype(int)\n",
        "\n",
        "# Split the data into train and test sets\n",
        "X_train, X_test, y_train, y_test = train_test_split(data.drop('Target', axis=1), data['Target'], test_size=0.2, random_state=42)\n",
        "\n",
        "# Normalize the data\n",
        "scaler = StandardScaler()\n",
        "X_train_norm = scaler.fit_transform(X_train)\n",
        "X_test_norm = scaler.transform(X_test)\n",
        "\n",
        "# Train a logistic regression model\n",
        "model_lr = MyLogisticRegression()\n",
        "model_lr.fit(X_train_norm, y_train)\n",
        "\n",
        "# Evaluate the model on the test set\n",
        "y_pred = model_lr.predict(X_test_norm)\n",
        "\n",
        "accuracy = accuracy_score(y_test, y_pred)\n",
        "precision = precision_score(y_test, y_pred)\n",
        "recall = recall_score(y_test, y_pred)\n",
        "f1 = f1_score(y_test, y_pred)\n",
        "\n",
        "print(\"Accuracy: \",\"{:.3f}\".format(accuracy))\n",
        "print(\"Precision: \",\"{:.3f}\".format(precision))\n",
        "print(\"Recall: \",\"{:.3f}\".format(recall))\n",
        "print(\"F1-score: \",\"{:.3f}\".format(f1))"
      ],
      "metadata": {
        "colab": {
          "base_uri": "https://localhost:8080/"
        },
        "id": "_IGRx9cf-qmv",
        "outputId": "78c8cb14-3d07-46bd-f35f-cf3d5e274d5d"
      },
      "execution_count": 136,
      "outputs": [
        {
          "output_type": "stream",
          "name": "stderr",
          "text": [
            "<ipython-input-135-916ea3bdd68f>:11: UserWarning: To copy construct from a tensor, it is recommended to use sourceTensor.clone().detach() or sourceTensor.clone().detach().requires_grad_(True), rather than torch.tensor(sourceTensor).\n",
            "  Z = torch.tensor(Z, dtype=torch.float32, device=self.device)\n"
          ]
        },
        {
          "output_type": "stream",
          "name": "stdout",
          "text": [
            "Accuracy:  0.925\n",
            "Precision:  0.921\n",
            "Recall:  1.000\n",
            "F1-score:  0.959\n"
          ]
        }
      ]
    },
    {
      "cell_type": "markdown",
      "source": [
        "**Question:** What are each of your used evaluation metrics? And for each one, mention situations in which they convey more data on the model performance in specific tasks.\n"
      ],
      "metadata": {
        "id": "dzMzFdjaBlJx"
      }
    },
    {
      "cell_type": "markdown",
      "source": [
        "**Your answer:**\n",
        "the key evaluation metrics for a logistic regression model are:\n",
        "\n",
        "1. **Accuracy:**\n",
        "* Accuracy is the most commonly used metric, representing the overall correctness of the model's predictions.\n",
        "* Accuracy is calculated as (TP + TN) / (TP + TN + FP + FN), where TP, TN, FP, and FN are the true positives, true negatives, false positives, and false negatives, respectively.\n",
        "* Accuracy is a good metric when the classes are balanced and the cost of false positives and false negatives is similar.\n",
        "\n",
        "2. **Precision:**\n",
        "* Precision measures the model's ability to correctly predict the positive class.\n",
        "* Precision is calculated as TP / (TP + FP).\n",
        "* Precision is useful when the cost of false positives is high, such as in tasks where the positive class is more important (e.g., detecting fraud, diagnosing a serious disease).\n",
        "\n",
        "3. **Recall (Sensitivity/True Positive Rate):**\n",
        "* Recall quantifies the model's ability to correctly identify the positive class instances.\n",
        "* Recall is calculated as TP / (TP + FN).\n",
        "* Recall is important when the cost of false negatives is high, such as in tasks where missing a positive instance is more critical (e.g., detecting cancer, identifying high-risk individuals).\n",
        "\n",
        "4. **F1-score:**\n",
        "* The F1-score is the harmonic mean of precision and recall, providing a balanced measure of the model's performance.\n",
        "* F1-score is calculated as 2 * (Precision * Recall) / (Precision + Recall).\n",
        "* The F1-score is useful when you want to balance the trade-off between precision and recall, especially when the classes are imbalanced.\n",
        "\n",
        "The choice of evaluation metric(s) depends on the specific task and the relative importance of different types of errors. For example:\n",
        "* In a medical diagnosis task, where missing a positive case (false negative) is more costly, recall would be a more important metric.\n",
        "* In a fraud detection task, where false positives (incorrectly flagging a transaction as fraudulent) can be costly, precision would be a more important metric.\n",
        "* In a balanced classification task, where the cost of errors is similar, accuracy and F1-score may be the most appropriate metrics."
      ],
      "metadata": {
        "id": "03Y597-8BmjA"
      }
    },
    {
      "cell_type": "markdown",
      "source": [
        "**Task:** Now test the built-in function of Python for Logistic Regression, and report all the same metrics used before.\n"
      ],
      "metadata": {
        "id": "WBU16fU8Bslz"
      }
    },
    {
      "cell_type": "code",
      "source": [
        "\n",
        "# Your code goes here!\n",
        "data = pd.read_csv('Logistic_question.csv')\n",
        "\n",
        "# Convert the target column to binary\n",
        "data['Target'] = (data['Target'] > 0.5).astype(int)\n",
        "\n",
        "# Split the data into train and test sets\n",
        "X_train, X_test, y_train, y_test = train_test_split(data.drop('Target', axis=1), data['Target'], test_size=0.2, random_state=42)\n",
        "\n",
        "# Normalize the data\n",
        "scaler = StandardScaler()\n",
        "X_train_norm = scaler.fit_transform(X_train)\n",
        "X_test_norm = scaler.transform(X_test)\n",
        "\n",
        "# Train a logistic regression model\n",
        "model_lr = LogisticRegression()\n",
        "model_lr.fit(X_train_norm, y_train)\n",
        "\n",
        "# Evaluate the model on the test set\n",
        "y_pred = model_lr.predict(X_test_norm)\n",
        "\n",
        "accuracy = accuracy_score(y_test, y_pred)\n",
        "precision = precision_score(y_test, y_pred)\n",
        "recall = recall_score(y_test, y_pred)\n",
        "f1 = f1_score(y_test, y_pred)\n",
        "\n",
        "print(\"Accuracy: \",\"{:.3f}\".format(accuracy))\n",
        "print(\"Precision: \",\"{:.3f}\".format(precision))\n",
        "print(\"Recall: \",\"{:.3f}\".format(recall))\n",
        "print(\"F1-score: \",\"{:.3f}\".format(f1))\n"
      ],
      "metadata": {
        "colab": {
          "base_uri": "https://localhost:8080/"
        },
        "id": "Q0lUCkxhByDB",
        "outputId": "3e32e0e2-6472-494a-b6e6-af1b90b87c47"
      },
      "execution_count": null,
      "outputs": [
        {
          "output_type": "stream",
          "name": "stdout",
          "text": [
            "Accuracy:  0.950\n",
            "Precision:  0.946\n",
            "Recall:  1.000\n",
            "F1-score:  0.972\n"
          ]
        }
      ]
    },
    {
      "cell_type": "markdown",
      "source": [
        "**Question:** Compare your function with the built-in function. On the matters of performance and parameters. Briefly explain what the parameters of the built-in function are and how they affect the model's performance?\n"
      ],
      "metadata": {
        "id": "8j-IBIGdB9PO"
      }
    },
    {
      "cell_type": "markdown",
      "source": [
        "**Your answer:**\n",
        "comparison of a custom logistic regression function and the built-in logistic regression function in terms of performance and parameters:\n",
        "\n",
        "1. **Performance:**\n",
        "* Built-in Function: The built-in logistic regression function, such as sklearn.linear_model.LogisticRegression, is likely to have better performance than a custom implementation. This is because the built-in function is optimized and leverages efficient algorithms and libraries, potentially utilizing hardware-specific optimizations.\n",
        "* Custom Function: A custom implementation of logistic regression may not be as performant as the built-in function, as it would not have the same level of optimization and hardware acceleration.\n",
        "\n",
        "2. **Parameters:**\n",
        "* **Built-in Function:**\n",
        "The built-in logistic regression function in scikit-learn (sklearn.linear_model.LogisticRegression) has several parameters that can affect the model's performance:\n",
        " * penalty: The type of regularization to apply (e.g., 'l1', 'l2', 'elasticnet').\n",
        " * C: The inverse of the regularization strength. Smaller values specify stronger regularization.\n",
        " * solver: The algorithm to use in the optimization problem (e.g., 'lbfgs', 'newton-cg', 'liblinear', 'sag', 'saga').\n",
        " * max_iter: The maximum number of iterations taken for the solvers to converge.\n",
        " * random_state: The seed used by the random number generator.\n",
        "These parameters can significantly impact the model's performance, such as its ability to generalize, convergence speed, and handling of overfitting.\n",
        "* **Custom Function:**\n",
        "In a custom implementation, you would need to manually implement the parameters and their effects on the model's performance. This may require more effort and a deeper understanding of the underlying algorithms and optimization techniques.\n",
        "\n",
        "3. Flexibility:\n",
        "* **Built-in Function:**\n",
        "The built-in logistic regression function provides a wide range of options and configurations, allowing you to fine-tune the model's behavior to suit your specific needs.\n",
        "* **Custom Function:**\n",
        "A custom implementation may have limited flexibility, as you would need to implement the various features and options yourself, which can be time-consuming and error-prone."
      ],
      "metadata": {
        "id": "k3Cw-msxB_y9"
      }
    },
    {
      "cell_type": "markdown",
      "source": [
        "# Multinomial Logistic Regression\n"
      ],
      "metadata": {
        "id": "d7Ct7oMQCHUZ"
      }
    },
    {
      "cell_type": "markdown",
      "source": [
        "**Task:** Implement your own Multinomial Logistic Regression model. Your model must be able to handle any number of labels!\n"
      ],
      "metadata": {
        "id": "isXjPBlWCMcC"
      }
    },
    {
      "cell_type": "code",
      "source": [
        "# import necessary libraries\n",
        "class MyMultinomialLogisticRegression:\n",
        "    # Your code goes here!\n",
        "    # This class must have an __init__ method, a loss function, a fit function, and a predict function. You also need to make your code runnable on gpu!\n",
        "\n",
        "    def __init__(self,num_classes ,num_features ,learning_rate=0.01, n_iter=1000, device='cuda'):\n",
        "        self.l_rate = learning_rate\n",
        "        self.n_iter = n_iter\n",
        "        self.device = torch.device(device if torch.cuda.is_available() else 'cpu')\n",
        "        self.nc = num_classes\n",
        "        self.nf = num_features\n",
        "        self.W = nn.Parameter(torch.zeros(num_classes, num_features, device=self.device, requires_grad=True))\n",
        "        self.b = nn.Parameter(torch.zeros(num_classes, device=self.device, requires_grad=True))\n",
        "\n",
        "    def softmax(self,x):\n",
        "        #Compute softmax values for each sets of scores in x.\n",
        "        x = torch.tensor(x, dtype=torch.float32, device=self.device)\n",
        "        e_x = torch.exp(x)\n",
        "        return e_x / torch.sum(e_x, axis=1, keepdims=True)\n",
        "\n",
        "\n",
        "\n",
        "    def loss_function(self, X, y):\n",
        "        logits = torch.matmul(X, self.W.t()) + self.b\n",
        "        soft_logits = self.softmax(logits)\n",
        "        log_soft_logits = torch.log(soft_logits)\n",
        "        loss = -torch.mean(torch.mul(log_soft_logits, y))\n",
        "        return loss\n",
        "\n",
        "    def fit(self, X, y):\n",
        "        n_samples, n_features = X.shape\n",
        "        X_tensor = torch.tensor(X, dtype=torch.float32, device=self.device)\n",
        "        y_tensor = torch.tensor(y, dtype=torch.long, device=self.device)\n",
        "\n",
        "        for i in range(self.n_iter):\n",
        "          logits = torch.matmul(X_tensor, self.W.t()) + self.b\n",
        "          soft_logits = self.softmax(logits)\n",
        "          grad_W = (1 / n_samples) * torch.matmul(X_tensor.t(), (soft_logits - y_tensor)).t()\n",
        "          grad_b = (1 / n_samples) * torch.sum(soft_logits - y_tensor, dim=0)\n",
        "          self.W = self.W - self.l_rate * grad_W\n",
        "          self.b = self.b - self.l_rate * grad_b\n",
        "\n",
        "\n",
        "    def predict(self, X):\n",
        "        X_tensor = torch.tensor(X, dtype=torch.float32, device=self.device)\n",
        "        logits = torch.matmul(X_tensor, self.W.t()) + self.b\n",
        "        predictions = torch.argmax(logits, dim=1)\n",
        "        return predictions.cpu().numpy()"
      ],
      "metadata": {
        "id": "luLG8cTMFHgX"
      },
      "execution_count": null,
      "outputs": []
    },
    {
      "cell_type": "markdown",
      "source": [
        "**Task:** Test your model on the given dataset. Do the same as the previous part, but here you might want to first make the Target column quantized into $i$ levels. Change $i$ from 2 to 10."
      ],
      "metadata": {
        "id": "3Rpsh6cVCQWl"
      }
    },
    {
      "cell_type": "code",
      "source": [
        "# Your code goes here!\n",
        "\n",
        "# Your code goes here!\n",
        "data = pd.read_csv('Logistic_question.csv')\n",
        "\n",
        "X = data.drop('Target', axis=1)\n",
        "y = data['Target']\n",
        "n_samples, n_features = X.shape\n",
        "num_classes = range(2,11)\n",
        "accuracys = []\n",
        "precisions = []\n",
        "recalls = []\n",
        "f1s = []\n",
        "\n",
        "# Iterate over different levels of quantization\n",
        "for i in range(2, 11):\n",
        "    # Quantize the target column into i levels\n",
        "    y_quantized = pd.qcut(data['Target'], i, labels=False)\n",
        "\n",
        "    # Split the dataset into training and testing sets\n",
        "    X_train, X_test, y_train, y_test = train_test_split(X, y_quantized, test_size=0.2, random_state=42)\n",
        "\n",
        "    y_train_onehot = np.eye(i)[y_train]\n",
        "\n",
        "    # Normalize the data\n",
        "    scaler = StandardScaler()\n",
        "    X_train_norm = scaler.fit_transform(X_train)\n",
        "    X_test_norm = scaler.transform(X_test)\n",
        "\n",
        "    # Train the model (in this example, we use Logistic Regression)\n",
        "    model = MyMultinomialLogisticRegression(i ,n_features)\n",
        "    model.fit(X_train.to_numpy(), y_train_onehot)\n",
        "\n",
        "    # Test the model on the testing set\n",
        "    y_pred = model.predict(X_test.to_numpy())\n",
        "\n",
        "\n",
        "    accuracys.append(accuracy_score(y_test, y_pred))\n",
        "    precisions.append(precision_score(y_test, y_pred, average='weighted'))\n",
        "    recalls.append(recall_score(y_test, y_pred, average='weighted'))\n",
        "    f1s.append(f1_score(y_test, y_pred, average='weighted'))\n",
        "\n"
      ],
      "metadata": {
        "id": "Xr7koXDmDNHY"
      },
      "execution_count": null,
      "outputs": []
    },
    {
      "cell_type": "code",
      "source": [
        "for i in range(0, 9):\n",
        "  print(\"number of classes :\",i+2)\n",
        "  print(\"accuracys :\",accuracys[i])\n",
        "  print(\"precisions :\",precisions[i])\n",
        "  print(\"recalls :\",recalls[i])\n",
        "  print(\"f1s :\",f1s[i])\n",
        "  print()\n"
      ],
      "metadata": {
        "colab": {
          "base_uri": "https://localhost:8080/"
        },
        "id": "udXdoQ9cPKeJ",
        "outputId": "98273c20-3ca0-43f9-bac2-4af2ed30c5dd"
      },
      "execution_count": null,
      "outputs": [
        {
          "output_type": "stream",
          "name": "stdout",
          "text": [
            "number of classes : 2\n",
            "accuracys : 0.925\n",
            "precisions : 0.9288039974210187\n",
            "recalls : 0.925\n",
            "f1s : 0.9245238095238093\n",
            "\n",
            "number of classes : 3\n",
            "accuracys : 0.5875\n",
            "precisions : 0.7823022718702866\n",
            "recalls : 0.5875\n",
            "f1s : 0.5994944553163732\n",
            "\n",
            "number of classes : 4\n",
            "accuracys : 0.5\n",
            "precisions : 0.5748961794019933\n",
            "recalls : 0.5\n",
            "f1s : 0.4595994256288375\n",
            "\n",
            "number of classes : 5\n",
            "accuracys : 0.4625\n",
            "precisions : 0.5091666666666667\n",
            "recalls : 0.4625\n",
            "f1s : 0.43131537176274026\n",
            "\n",
            "number of classes : 6\n",
            "accuracys : 0.45\n",
            "precisions : 0.46918010150768763\n",
            "recalls : 0.45\n",
            "f1s : 0.43149138910743956\n",
            "\n",
            "number of classes : 7\n",
            "accuracys : 0.45\n",
            "precisions : 0.47674433409727524\n",
            "recalls : 0.45\n",
            "f1s : 0.458209935210966\n",
            "\n",
            "number of classes : 8\n",
            "accuracys : 0.375\n",
            "precisions : 0.40374261155511154\n",
            "recalls : 0.375\n",
            "f1s : 0.36755693581780535\n",
            "\n",
            "number of classes : 9\n",
            "accuracys : 0.3375\n",
            "precisions : 0.318392094017094\n",
            "recalls : 0.3375\n",
            "f1s : 0.3175645612860725\n",
            "\n",
            "number of classes : 10\n",
            "accuracys : 0.275\n",
            "precisions : 0.27831876456876453\n",
            "recalls : 0.275\n",
            "f1s : 0.2516194331983806\n",
            "\n"
          ]
        }
      ]
    },
    {
      "cell_type": "code",
      "source": [
        "# Plot metrics versus number of classes\n",
        "plt.plot(num_classes, accuracys,label=\"accuracy\")\n",
        "plt.plot(num_classes, precisions,label=\"precision\")\n",
        "plt.plot(num_classes, recalls,label=\"recall\")\n",
        "plt.plot(num_classes, f1s,label=\"f1\")\n",
        "\n",
        "plt.xlabel('number of classes')\n",
        "plt.ylabel('metrics')\n",
        "plt.title('metrics vs. number of classes')\n",
        "plt.legend()\n",
        "plt.grid(which='both')\n",
        "plt.minorticks_on()\n",
        "plt.show()"
      ],
      "metadata": {
        "colab": {
          "base_uri": "https://localhost:8080/",
          "height": 472
        },
        "id": "AvA_b8LSQwm5",
        "outputId": "bcc8bdb3-ffe8-4194-c847-51149b6cfbe4"
      },
      "execution_count": null,
      "outputs": [
        {
          "output_type": "display_data",
          "data": {
            "text/plain": [
              "<Figure size 640x480 with 1 Axes>"
            ],
            "image/png": "[encoded data removed]"
          },
          "metadata": {}
        }
      ]
    },
    {
      "cell_type": "markdown",
      "source": [
        "**Question:** Report for which $i$ your model performs best. Describe and analyze the results! You could use visualizations or any other method!"
      ],
      "metadata": {
        "id": "Hc6UFgg3DTw9"
      }
    },
    {
      "cell_type": "markdown",
      "source": [
        "**Your answer:**\n",
        "` i=2`"
      ],
      "metadata": {
        "id": "EozlivMcDXKo"
      }
    },
    {
      "cell_type": "markdown",
      "source": [
        "# Going a little further!"
      ],
      "metadata": {
        "id": "mNHrcDxzDaS5"
      }
    },
    {
      "cell_type": "markdown",
      "source": [
        "First we download Adult income dataset from Kaggle! In order to do this create an account on this website, and create an API. A file named kaggle.json will be downloaded to your device. Then use the following code:"
      ],
      "metadata": {
        "id": "Qo4dSikLDdXg"
      }
    },
    {
      "cell_type": "code",
      "source": [
        "from google.colab import files\n",
        "files.upload()  # Use this to select the kaggle.json file from your computer\n",
        "!mkdir -p ~/.kaggle\n",
        "!cp kaggle.json ~/.kaggle/\n",
        "!chmod 600 ~/.kaggle/kaggle.json"
      ],
      "metadata": {
        "colab": {
          "base_uri": "https://localhost:8080/",
          "height": 74
        },
        "id": "5TIenJCjDg2Q",
        "outputId": "50052cbb-76f5-472b-ffb4-792f25377cec"
      },
      "execution_count": null,
      "outputs": [
        {
          "output_type": "display_data",
          "data": {
            "text/plain": [
              "<IPython.core.display.HTML object>"
            ],
            "text/html": [
              "\n",
              "     <input type=\"file\" id=\"files-b9c54f1f-ee44-4a54-950d-2b3002e8cedc\" name=\"files[]\" multiple disabled\n",
              "        style=\"border:none\" />\n",
              "     <output id=\"result-b9c54f1f-ee44-4a54-950d-2b3002e8cedc\">\n",
              "      Upload widget is only available when the cell has been executed in the\n",
              "      current browser session. Please rerun this cell to enable.\n",
              "      </output>\n",
              "      <script>// Copyright 2017 Google LLC\n",
              "//\n",
              "// Licensed under the Apache License, Version 2.0 (the \"License\");\n",
              "// you may not use this file except in compliance with the License.\n",
              "// You may obtain a copy of the License at\n",
              "//\n",
              "//      http://www.apache.org/licenses/LICENSE-2.0\n",
              "//\n",
              "// Unless required by applicable law or agreed to in writing, software\n",
              "// distributed under the License is distributed on an \"AS IS\" BASIS,\n",
              "// WITHOUT WARRANTIES OR CONDITIONS OF ANY KIND, either express or implied.\n",
              "// See the License for the specific language governing permissions and\n",
              "// limitations under the License.\n",
              "\n",
              "/**\n",
              " * @fileoverview Helpers for google.colab Python module.\n",
              " */\n",
              "(function(scope) {\n",
              "function span(text, styleAttributes = {}) {\n",
              "  const element = document.createElement('span');\n",
              "  element.textContent = text;\n",
              "  for (const key of Object.keys(styleAttributes)) {\n",
              "    element.style[key] = styleAttributes[key];\n",
              "  }\n",
              "  return element;\n",
              "}\n",
              "\n",
              "// Max number of bytes which will be uploaded at a time.\n",
              "const MAX_PAYLOAD_SIZE = 100 * 1024;\n",
              "\n",
              "function _uploadFiles(inputId, outputId) {\n",
              "  const steps = uploadFilesStep(inputId, outputId);\n",
              "  const outputElement = document.getElementById(outputId);\n",
              "  // Cache steps on the outputElement to make it available for the next call\n",
              "  // to uploadFilesContinue from Python.\n",
              "  outputElement.steps = steps;\n",
              "\n",
              "  return _uploadFilesContinue(outputId);\n",
              "}\n",
              "\n",
              "// This is roughly an async generator (not supported in the browser yet),\n",
              "// where there are multiple asynchronous steps and the Python side is going\n",
              "// to poll for completion of each step.\n",
              "// This uses a Promise to block the python side on completion of each step,\n",
              "// then passes the result of the previous step as the input to the next step.\n",
              "function _uploadFilesContinue(outputId) {\n",
              "  const outputElement = document.getElementById(outputId);\n",
              "  const steps = outputElement.steps;\n",
              "\n",
              "  const next = steps.next(outputElement.lastPromiseValue);\n",
              "  return Promise.resolve(next.value.promise).then((value) => {\n",
              "    // Cache the last promise value to make it available to the next\n",
              "    // step of the generator.\n",
              "    outputElement.lastPromiseValue = value;\n",
              "    return next.value.response;\n",
              "  });\n",
              "}\n",
              "\n",
              "/**\n",
              " * Generator function which is called between each async step of the upload\n",
              " * process.\n",
              " * @param {string} inputId Element ID of the input file picker element.\n",
              " * @param {string} outputId Element ID of the output display.\n",
              " * @return {!Iterable<!Object>} Iterable of next steps.\n",
              " */\n",
              "function* uploadFilesStep(inputId, outputId) {\n",
              "  const inputElement = document.getElementById(inputId);\n",
              "  inputElement.disabled = false;\n",
              "\n",
              "  const outputElement = document.getElementById(outputId);\n",
              "  outputElement.innerHTML = '';\n",
              "\n",
              "  const pickedPromise = new Promise((resolve) => {\n",
              "    inputElement.addEventListener('change', (e) => {\n",
              "      resolve(e.target.files);\n",
              "    });\n",
              "  });\n",
              "\n",
              "  const cancel = document.createElement('button');\n",
              "  inputElement.parentElement.appendChild(cancel);\n",
              "  cancel.textContent = 'Cancel upload';\n",
              "  const cancelPromise = new Promise((resolve) => {\n",
              "    cancel.onclick = () => {\n",
              "      resolve(null);\n",
              "    };\n",
              "  });\n",
              "\n",
              "  // Wait for the user to pick the files.\n",
              "  const files = yield {\n",
              "    promise: Promise.race([pickedPromise, cancelPromise]),\n",
              "    response: {\n",
              "      action: 'starting',\n",
              "    }\n",
              "  };\n",
              "\n",
              "  cancel.remove();\n",
              "\n",
              "  // Disable the input element since further picks are not allowed.\n",
              "  inputElement.disabled = true;\n",
              "\n",
              "  if (!files) {\n",
              "    return {\n",
              "      response: {\n",
              "        action: 'complete',\n",
              "      }\n",
              "    };\n",
              "  }\n",
              "\n",
              "  for (const file of files) {\n",
              "    const li = document.createElement('li');\n",
              "    li.append(span(file.name, {fontWeight: 'bold'}));\n",
              "    li.append(span(\n",
              "        `(${file.type || 'n/a'}) - ${file.size} bytes, ` +\n",
              "        `last modified: ${\n",
              "            file.lastModifiedDate ? file.lastModifiedDate.toLocaleDateString() :\n",
              "                                    'n/a'} - `));\n",
              "    const percent = span('0% done');\n",
              "    li.appendChild(percent);\n",
              "\n",
              "    outputElement.appendChild(li);\n",
              "\n",
              "    const fileDataPromise = new Promise((resolve) => {\n",
              "      const reader = new FileReader();\n",
              "      reader.onload = (e) => {\n",
              "        resolve(e.target.result);\n",
              "      };\n",
              "      reader.readAsArrayBuffer(file);\n",
              "    });\n",
              "    // Wait for the data to be ready.\n",
              "    let fileData = yield {\n",
              "      promise: fileDataPromise,\n",
              "      response: {\n",
              "        action: 'continue',\n",
              "      }\n",
              "    };\n",
              "\n",
              "    // Use a chunked sending to avoid message size limits. See b/62115660.\n",
              "    let position = 0;\n",
              "    do {\n",
              "      const length = Math.min(fileData.byteLength - position, MAX_PAYLOAD_SIZE);\n",
              "      const chunk = new Uint8Array(fileData, position, length);\n",
              "      position += length;\n",
              "\n",
              "      const base64 = btoa(String.fromCharCode.apply(null, chunk));\n",
              "      yield {\n",
              "        response: {\n",
              "          action: 'append',\n",
              "          file: file.name,\n",
              "          data: base64,\n",
              "        },\n",
              "      };\n",
              "\n",
              "      let percentDone = fileData.byteLength === 0 ?\n",
              "          100 :\n",
              "          Math.round((position / fileData.byteLength) * 100);\n",
              "      percent.textContent = `${percentDone}% done`;\n",
              "\n",
              "    } while (position < fileData.byteLength);\n",
              "  }\n",
              "\n",
              "  // All done.\n",
              "  yield {\n",
              "    response: {\n",
              "      action: 'complete',\n",
              "    }\n",
              "  };\n",
              "}\n",
              "\n",
              "scope.google = scope.google || {};\n",
              "scope.google.colab = scope.google.colab || {};\n",
              "scope.google.colab._files = {\n",
              "  _uploadFiles,\n",
              "  _uploadFilesContinue,\n",
              "};\n",
              "})(self);\n",
              "</script> "
            ]
          },
          "metadata": {}
        },
        {
          "output_type": "stream",
          "name": "stdout",
          "text": [
            "cp: cannot stat 'kaggle.json': No such file or directory\n",
            "chmod: cannot access '/root/.kaggle/kaggle.json': No such file or directory\n"
          ]
        }
      ]
    },
    {
      "cell_type": "markdown",
      "source": [
        "Then use this code to automatically download the dataset into Colab.\n"
      ],
      "metadata": {
        "id": "UNIc9dzoSa6W"
      }
    },
    {
      "cell_type": "code",
      "source": [
        "!kaggle datasets download -d wenruliu/adult-income-dataset\n",
        "!unzip /content/adult-income-dataset.zip"
      ],
      "metadata": {
        "id": "uoc63L6IScDs"
      },
      "execution_count": null,
      "outputs": []
    },
    {
      "cell_type": "markdown",
      "source": [
        "**Task:** Determine the number of null entries!\n"
      ],
      "metadata": {
        "id": "p74lbtchSzp5"
      }
    },
    {
      "cell_type": "code",
      "source": [
        "# Your code goes here!\n",
        "data = pd.read_csv('adult.csv')\n",
        "data = data.replace('?', np.nan)\n",
        "print(data.isnull().sum().sum())\n",
        "print(data.shape)"
      ],
      "metadata": {
        "id": "AwQKV9h5S3K5",
        "colab": {
          "base_uri": "https://localhost:8080/"
        },
        "outputId": "d9e885a0-8bfa-4d8a-e35b-2e55b3c4dd2b"
      },
      "execution_count": 128,
      "outputs": [
        {
          "output_type": "stream",
          "name": "stdout",
          "text": [
            "6465\n",
            "(48842, 15)\n"
          ]
        }
      ]
    },
    {
      "cell_type": "markdown",
      "source": [
        "**Question:** In many widely used datasets there are a lot of null entries. Propose 5 methods by which, one could deal with this problem. Briefly explain how do you decide which one to use in this problem."
      ],
      "metadata": {
        "id": "9T_IhJJiS31B"
      }
    },
    {
      "cell_type": "markdown",
      "source": [
        "**Your answer:**\n",
        "\n",
        "1.  **Dropping Null Values:**\n",
        "*   This method involves removing rows or columns that contain any null values.\n",
        "*   It is suitable when the percentage of null values is low (e.g., less than 5-10%) and dropping the affected rows/columns won't significantly impact the analysis.\n",
        "*   This approach is straightforward but can lead to a substantial loss of data, especially if the null values are widespread.\n",
        "It's best used when the remaining data is still sufficient to perform meaningful analysis.\n",
        "\n",
        "\n",
        "2.   **Filling Null Values:**\n",
        "\n",
        "*   This method replaces null values with specific values, such as the mean, median, mode, or a constant.\n",
        "*   It is appropriate when the null values can be reasonably estimated from the existing data, and the impact of the substitution is not expected to skew the analysis.\n",
        "*   Filling with the mean or median is suitable when the null values are randomly distributed, while filling with the mode is better for categorical variables.\n",
        "\n",
        "3. **Imputation:**\n",
        "\n",
        "* Imputation involves replacing missing values with estimated values based on patterns in the existing data.\n",
        "* This method is useful when the missing values are not random and can be predicted from other variables in the dataset.\n",
        "* Techniques like k-nearest neighbors, linear regression, or more advanced methods like multiple imputation can be used for imputation.\n",
        "* Imputation is suitable when the dataset is large enough to identify reliable patterns and the missing values are not too widespread (e.g., less than 20-30%).\n",
        "\n",
        "4. **Interpolation:**\n",
        "\n",
        "* Interpolation estimates missing values based on neighboring data points, typically used for time series or sequential data.\n",
        "* It is appropriate when the missing values follow a predictable trend or pattern that can be inferred from the surrounding data points.\n",
        "* Common interpolation methods include linear, polynomial, or spline interpolation, depending on the nature of the data.\n",
        "* Interpolation works best when the missing values are not too far apart and the underlying trend is relatively smooth.\n",
        "\n",
        "5. **Machine Learning Models:**\n",
        "\n",
        "* This advanced method uses machine learning models to predict missing values based on other features in the dataset.\n",
        "* It is suitable when the dataset is complex, and the missing values are related to other variables in a predictive manner.\n",
        "* Techniques like regression, classification, or more sophisticated models like neural networks can be employed for this purpose.\n",
        "* This approach is beneficial when the dataset is large enough to train reliable models and the missing values are not too widespread (e.g., less than 20-30%).\n",
        "\n",
        "\n",
        "**To decide which method to use, consider the following factors:**\n",
        "1. Percentage of missing values: If the missing values are minimal, simpler methods like dropping or filling may be sufficient. For higher percentages, more advanced techniques like imputation or machine learning models may be necessary.\n",
        "\n",
        "2. Randomness of missing values: If the missing values are random and not related to other variables, simpler methods like filling may be appropriate. If the missing values follow a pattern, imputation or interpolation may be more suitable.\n",
        "\n",
        "3. Impact on analysis: Evaluate how the chosen method will affect the analysis results. Dropping or filling may be preferred if the impact is minimal, while imputation or machine learning models may be necessary if the missing values significantly influence the analysis.\n",
        "\n",
        "4. Available data and resources: Consider the size of the dataset, the computational resources available, and the expertise required for more advanced techniques like imputation or machine learning models."
      ],
      "metadata": {
        "id": "CRQ1GkoRS9Th"
      }
    },
    {
      "cell_type": "code",
      "source": [
        "print(\"missing values percenrage:\",data.isnull().sum().sum()/48842/15*100,\"%\")"
      ],
      "metadata": {
        "colab": {
          "base_uri": "https://localhost:8080/"
        },
        "id": "hgwvjmY6EnLk",
        "outputId": "10eeeb1c-88fc-476b-898a-40d0f9df6348"
      },
      "execution_count": 23,
      "outputs": [
        {
          "output_type": "stream",
          "name": "stdout",
          "text": [
            "missing values percenrage: 0.8824372466319971 %\n"
          ]
        }
      ]
    },
    {
      "cell_type": "markdown",
      "source": [
        "As a result, since the percentage of Missing data is less than 5%, I use Dropping Null Values Methods."
      ],
      "metadata": {
        "id": "5RMJFWF8FBrf"
      }
    },
    {
      "cell_type": "markdown",
      "source": [
        "**Task:** Handle null entries using your best method.\n"
      ],
      "metadata": {
        "id": "2Rh0w1JzTIHy"
      }
    },
    {
      "cell_type": "code",
      "source": [
        "# Your code goes here!\n",
        "\n",
        "# Drop rows with any null values\n",
        "print(\"data.shape: \",data.shape)\n",
        "data_dropped = data.dropna()\n",
        "print(\"data_dropped.shape: \",data_dropped.shape)"
      ],
      "metadata": {
        "id": "bd9Y1sfQTE75",
        "colab": {
          "base_uri": "https://localhost:8080/"
        },
        "outputId": "b31f3f64-0e39-42af-d241-4d56377b3563"
      },
      "execution_count": 129,
      "outputs": [
        {
          "output_type": "stream",
          "name": "stdout",
          "text": [
            "data.shape:  (48842, 15)\n",
            "data_dropped.shape:  (45222, 15)\n"
          ]
        }
      ]
    },
    {
      "cell_type": "markdown",
      "source": [
        "**Task:** Convert categorical features to numerical values. Split the dataset with 80-20 portion. Normalize all the data using X_train. Use the built-in Logistic Regression function and GridSearchCV to train your model, and report the parameters, train and test accuracy of the best model."
      ],
      "metadata": {
        "id": "tGUEc1BMTLW-"
      }
    },
    {
      "cell_type": "code",
      "source": [
        "# Your code goes here!\n",
        "data_cat = data_dropped.copy()\n",
        "print(data_dropped)\n",
        "print(\"________________________________________________________________________________________________________________\")\n",
        "# Convert categorical features to numerical values\n",
        "for column in data_dropped.columns:\n",
        "    if data_dropped[column].dtype == 'object':\n",
        "      #print(column)\n",
        "      data_cat[column] = data_dropped[column].astype('category').cat.codes\n",
        "print(data_cat)"
      ],
      "metadata": {
        "id": "OETX1P_8TPVK",
        "colab": {
          "base_uri": "https://localhost:8080/"
        },
        "outputId": "b1310fa9-b6a7-452a-d540-c049656ca10d"
      },
      "execution_count": 130,
      "outputs": [
        {
          "output_type": "stream",
          "name": "stdout",
          "text": [
            "       age     workclass  fnlwgt     education  educational-num  \\\n",
            "0       25       Private  226802          11th                7   \n",
            "1       38       Private   89814       HS-grad                9   \n",
            "2       28     Local-gov  336951    Assoc-acdm               12   \n",
            "3       44       Private  160323  Some-college               10   \n",
            "5       34       Private  198693          10th                6   \n",
            "...    ...           ...     ...           ...              ...   \n",
            "48837   27       Private  257302    Assoc-acdm               12   \n",
            "48838   40       Private  154374       HS-grad                9   \n",
            "48839   58       Private  151910       HS-grad                9   \n",
            "48840   22       Private  201490       HS-grad                9   \n",
            "48841   52  Self-emp-inc  287927       HS-grad                9   \n",
            "\n",
            "           marital-status         occupation   relationship   race  gender  \\\n",
            "0           Never-married  Machine-op-inspct      Own-child  Black    Male   \n",
            "1      Married-civ-spouse    Farming-fishing        Husband  White    Male   \n",
            "2      Married-civ-spouse    Protective-serv        Husband  White    Male   \n",
            "3      Married-civ-spouse  Machine-op-inspct        Husband  Black    Male   \n",
            "5           Never-married      Other-service  Not-in-family  White    Male   \n",
            "...                   ...                ...            ...    ...     ...   \n",
            "48837  Married-civ-spouse       Tech-support           Wife  White  Female   \n",
            "48838  Married-civ-spouse  Machine-op-inspct        Husband  White    Male   \n",
            "48839             Widowed       Adm-clerical      Unmarried  White  Female   \n",
            "48840       Never-married       Adm-clerical      Own-child  White    Male   \n",
            "48841  Married-civ-spouse    Exec-managerial           Wife  White  Female   \n",
            "\n",
            "       capital-gain  capital-loss  hours-per-week native-country income  \n",
            "0                 0             0              40  United-States  <=50K  \n",
            "1                 0             0              50  United-States  <=50K  \n",
            "2                 0             0              40  United-States   >50K  \n",
            "3              7688             0              40  United-States   >50K  \n",
            "5                 0             0              30  United-States  <=50K  \n",
            "...             ...           ...             ...            ...    ...  \n",
            "48837             0             0              38  United-States  <=50K  \n",
            "48838             0             0              40  United-States   >50K  \n",
            "48839             0             0              40  United-States  <=50K  \n",
            "48840             0             0              20  United-States  <=50K  \n",
            "48841         15024             0              40  United-States   >50K  \n",
            "\n",
            "[45222 rows x 15 columns]\n",
            "________________________________________________________________________________________________________________\n",
            "       age  workclass  fnlwgt  education  educational-num  marital-status  \\\n",
            "0       25          2  226802          1                7               4   \n",
            "1       38          2   89814         11                9               2   \n",
            "2       28          1  336951          7               12               2   \n",
            "3       44          2  160323         15               10               2   \n",
            "5       34          2  198693          0                6               4   \n",
            "...    ...        ...     ...        ...              ...             ...   \n",
            "48837   27          2  257302          7               12               2   \n",
            "48838   40          2  154374         11                9               2   \n",
            "48839   58          2  151910         11                9               6   \n",
            "48840   22          2  201490         11                9               4   \n",
            "48841   52          3  287927         11                9               2   \n",
            "\n",
            "       occupation  relationship  race  gender  capital-gain  capital-loss  \\\n",
            "0               6             3     2       1             0             0   \n",
            "1               4             0     4       1             0             0   \n",
            "2              10             0     4       1             0             0   \n",
            "3               6             0     2       1          7688             0   \n",
            "5               7             1     4       1             0             0   \n",
            "...           ...           ...   ...     ...           ...           ...   \n",
            "48837          12             5     4       0             0             0   \n",
            "48838           6             0     4       1             0             0   \n",
            "48839           0             4     4       0             0             0   \n",
            "48840           0             3     4       1             0             0   \n",
            "48841           3             5     4       0         15024             0   \n",
            "\n",
            "       hours-per-week  native-country  income  \n",
            "0                  40              38       0  \n",
            "1                  50              38       0  \n",
            "2                  40              38       1  \n",
            "3                  40              38       1  \n",
            "5                  30              38       0  \n",
            "...               ...             ...     ...  \n",
            "48837              38              38       0  \n",
            "48838              40              38       1  \n",
            "48839              40              38       0  \n",
            "48840              20              38       0  \n",
            "48841              40              38       1  \n",
            "\n",
            "[45222 rows x 15 columns]\n"
          ]
        }
      ]
    },
    {
      "cell_type": "code",
      "source": [
        "# Split the dataset into features (X) and target (y)\n",
        "X = data_cat.drop('income', axis=1)\n",
        "y = data_cat['income']\n"
      ],
      "metadata": {
        "id": "tjBZw_qa1eHu"
      },
      "execution_count": 137,
      "outputs": []
    },
    {
      "cell_type": "code",
      "source": [
        "\n",
        "# Split the dataset into training and testing sets (80-20 portion)\n",
        "X_train, X_test, y_train, y_test = train_test_split(X, y, test_size=0.2, random_state=42)\n",
        "\n",
        "# Normalize the data using the training set\n",
        "scaler = StandardScaler()\n",
        "X_train_scaled = scaler.fit_transform(X_train)\n",
        "X_test_scaled = scaler.transform(X_test)\n",
        "\n",
        "# Define the Logistic Regression model and the hyperparameter grid\n",
        "model = LogisticRegression()\n",
        "param_grid = {\n",
        "    'penalty': ['l1', 'l2'],\n",
        "    'C': [0.001, 0.01, 0.1, 1, 10, 100],\n",
        "    'solver': ['liblinear', 'saga'],\n",
        "    'max_iter': [100, 200, 300]\n",
        "}\n",
        "\n",
        "# Perform GridSearchCV to find the best model\n",
        "grid_search = GridSearchCV(model, param_grid, cv=5, scoring='accuracy')\n",
        "grid_search.fit(X_train_scaled, y_train)\n",
        "\n",
        "# Print the best parameters and the train and test accuracy\n",
        "print('Best Parameters:', grid_search.best_params_)\n",
        "print('Train Accuracy:', grid_search.best_score_)\n",
        "print('Test Accuracy:', grid_search.score(X_test_scaled, y_test))\n"
      ],
      "metadata": {
        "colab": {
          "base_uri": "https://localhost:8080/"
        },
        "id": "xobJs8esRgxA",
        "outputId": "92129cec-d727-44ca-91a2-a7acac35e120"
      },
      "execution_count": 133,
      "outputs": [
        {
          "output_type": "stream",
          "name": "stdout",
          "text": [
            "Best Parameters: {'C': 0.1, 'max_iter': 100, 'penalty': 'l2', 'solver': 'saga'}\n",
            "Train Accuracy: 0.8202724227285595\n",
            "Test Accuracy: 0.8210060807075732\n"
          ]
        }
      ]
    },
    {
      "cell_type": "markdown",
      "source": [
        "**Task:** To try a different route, split X_train into $i$ parts, and train $i$ separate models on these parts. Now propose and implement 3 different *ensemble methods* to derive the global models' prediction for X_test using the results(not necessarily predictions!) of the $i$ models. Firstly, set $i=10$ to find the method with the best test accuracy(the answer is not general!). You must Use your own Logistic Regression model.(You might want to modify it a little bit for this part!)"
      ],
      "metadata": {
        "id": "aV30RkqdTRR_"
      }
    },
    {
      "cell_type": "code",
      "source": [
        "# Your code goes here!\n",
        "\n",
        "# Split the dataset into training and testing sets\n",
        "X_train, X_test, y_train, y_test = train_test_split(X, y, test_size=0.2, random_state=42)\n",
        "\n",
        "# Normalize the data\n",
        "scaler = StandardScaler()\n",
        "X_train_norm = scaler.fit_transform(X_train)\n",
        "X_test_norm = scaler.transform(X_test)\n",
        "\n",
        "# Split X_train into 10 parts\n",
        "n_splits = 10\n",
        "X_train_parts = np.array_split(X_train_norm, n_splits)\n",
        "y_train_parts = np.array_split(y_train, n_splits)\n",
        "\n",
        "\n",
        "# Train 10 separate Logistic Regression models\n",
        "models = []\n",
        "predictions = []\n",
        "model_accuracies = []\n",
        "\n",
        "\n",
        "for i in range(n_splits):\n",
        "    model = MyLogisticRegression()\n",
        "    model.fit(X_train_parts[i], y_train_parts[i])\n",
        "\n",
        "    models.append(model)\n",
        "    predictions.append(model.predict(X_test_norm))\n",
        "    model_accuracies.append(accuracy_score(y_test, predictions[i]))\n"
      ],
      "metadata": {
        "id": "UZvq6Iy2TUc-"
      },
      "execution_count": null,
      "outputs": []
    },
    {
      "cell_type": "code",
      "source": [
        "#1. Majority Voting Ensemble\n",
        "majority_vote_pred = np.array([np.argmax(np.bincount(pred)) for pred in np.transpose(predictions)])\n",
        "majority_vote_acc = accuracy_score(y_test, majority_vote_pred)\n",
        "\n",
        "#2. Weighted Averaging Ensemble\n",
        "weights = [acc / sum(model_accuracies) for acc in model_accuracies]\n",
        "weighted_avg_pred = np.array([int(np.average(pred, axis=0, weights=weights) >= 0.5) for pred in np.transpose(predictions)])\n",
        "weighted_avg_acc = accuracy_score(y_test, weighted_avg_pred)\n",
        "\n",
        "#3. Simple Averaging\n",
        "simple_avg_pred = np.array([int(np.average(pred, axis=0) >= 0.5) for pred in np.transpose(predictions)])\n",
        "simple_avg_acc = accuracy_score(y_test, simple_avg_pred)\n",
        "\n",
        "print(\"Simple Averaging Accuracy:\", simple_avg_acc)\n",
        "print(\"Weighted Averaging Accuracy:\", weighted_avg_acc)\n",
        "print(\"Majority Voting Accuracy:\", majority_vote_acc)\n"
      ],
      "metadata": {
        "colab": {
          "base_uri": "https://localhost:8080/"
        },
        "id": "CxotF4LX5eSJ",
        "outputId": "ac4c10a4-27d2-47f1-ee17-54c7a6ae2e88"
      },
      "execution_count": 139,
      "outputs": [
        {
          "output_type": "stream",
          "name": "stdout",
          "text": [
            "Simple Averaging Accuracy: 0.8210060807075732\n",
            "Weighted Averaging Accuracy: 0.8215588723051409\n",
            "Majority Voting Accuracy: 0.8197899391929243\n"
          ]
        }
      ]
    },
    {
      "cell_type": "markdown",
      "source": [
        "**Question:** Explain your proposed methods and the reason you decided to use them!"
      ],
      "metadata": {
        "id": "eGcFNYAbTbQt"
      }
    },
    {
      "cell_type": "markdown",
      "source": [
        "**Your answer:**\n",
        "1. **Majority Voting:**\n",
        "* **Reason:** Majority voting is a simple and effective ensemble method that can improve the overall performance of the model. By combining the predictions of multiple models, the majority voting approach can help reduce the impact of individual model errors and provide a more robust prediction.\n",
        "* **Implementation:** For each test sample, collect the predictions from all the individual models and assign the class label that receives the majority of the votes. This can be implemented using the np.argmax(np.bincount(predictions)) approach, where predictions is a list of the individual model predictions for a given test sample.\n",
        "\n",
        "2. **Simple Averaging:**\n",
        "* **Reason:** Simple averaging is a straightforward and effective ensemble method that can improve the overall performance of the model. By taking the average of the predictions from multiple models, the simple averaging approach can help reduce the impact of individual model errors and provide a more robust prediction.\n",
        "* **Implementation:** For each test sample, collect the predictions from all the individual models and take the average of these predictions to obtain the final prediction.\n",
        "\n",
        "3. **Weighted Averaging with Accuracy Weights:**\n",
        "* **Reasons**:\n",
        "Model Performance Consideration: Weighted averaging allows us to consider the individual performance of each model and assign weights accordingly. Models with higher accuracy or reliability can be given more weight in the final prediction.\n",
        "Optimizing Ensemble Performance: By assigning weights based on accuracy, we can optimize the ensemble's performance by giving more influence to the more accurate models.\n",
        "Flexibility: Weighted averaging with accuracy weights provides flexibility in adjusting the contribution of each model based on its performance, leading to a more tailored and potentially higher-performing ensemble.\n",
        "* **Implementation:**\n",
        "Train multiple base models on the training data.\n",
        "Assign weights to each model based on their accuracy or performance on a validation set.\n",
        "For each test sample, compute a weighted average of the predictions from the models, where the weights are proportional to the models' accuracy.\n",
        "The final prediction is calculated by summing the weighted predictions"
      ],
      "metadata": {
        "id": "hbLkUNVjTehO"
      }
    },
    {
      "cell_type": "markdown",
      "source": [
        "**Task:** Now, for your best method, change $i$ from 2 to 100 and report $i$, train and test accuracy of the best model. Also, plot test and train accuracy for $2\\leq i\\leq100$."
      ],
      "metadata": {
        "id": "Ckfa6TH8TguA"
      }
    },
    {
      "cell_type": "code",
      "source": [
        "# Your code goes here!\n",
        "# Split the dataset into training and testing sets\n",
        "X_train, X_test, y_train, y_test = train_test_split(X, y, test_size=0.2, random_state=42)\n",
        "\n",
        "# Normalize the data\n",
        "scaler = StandardScaler()\n",
        "X_train_norm = scaler.fit_transform(X_train)\n",
        "X_test_norm = scaler.transform(X_test)\n",
        "\n",
        "# Initialize lists to store the results\n",
        "train_accuracies = []\n",
        "test_accuracies = []\n",
        "\n",
        "for i in range(2, 101):\n",
        "    print(i)\n",
        "    # Split X_train into i parts\n",
        "    X_train_splits = np.array_split(X_train_norm, i)\n",
        "    y_train_splits = np.array_split(y_train, i)\n",
        "\n",
        "    # Train i separate Logistic Regression models\n",
        "    models = []\n",
        "    predictions_test = []\n",
        "    predictions_train = []\n",
        "    model_accuracies_test = []\n",
        "    model_accuracies_train = []\n",
        "\n",
        "    for j in range(i):\n",
        "        model = MyLogisticRegression()\n",
        "        model.fit(X_train_splits[j], y_train_splits[j])\n",
        "\n",
        "        models.append(model)\n",
        "        predictions_test.append(model.predict(X_test_norm))\n",
        "        predictions_train.append(model.predict(X_train_norm))\n",
        "        model_accuracies_test.append(accuracy_score(y_test, predictions_test[j]))\n",
        "        model_accuracies_train.append(accuracy_score(y_train, predictions_train[j]))\n",
        "\n",
        "\n",
        "    # Weighted Averaging Ensemble\n",
        "    weights_test = [acc / sum(model_accuracies_test) for acc in model_accuracies_test]\n",
        "    weighted_avg_pred_test = np.array([int(np.average(pred, axis=0, weights=weights_test) >= 0.5) for pred in np.transpose(predictions_test)])\n",
        "    test_accuracies.append(accuracy_score(y_test, weighted_avg_pred_test))\n",
        "\n",
        "    weights_train = [acc / sum(model_accuracies_train) for acc in model_accuracies_train]\n",
        "    weighted_avg_pred_train = np.array([int(np.average(pred, axis=0, weights=weights_train) >= 0.5) for pred in np.transpose(predictions_train)])\n",
        "    train_accuracies.append(accuracy_score(y_train, weighted_avg_pred_train))\n"
      ],
      "metadata": {
        "id": "5i875vvsUmmw"
      },
      "execution_count": null,
      "outputs": []
    },
    {
      "cell_type": "code",
      "source": [
        "for i in range(len(train_accuracies)):\n",
        "  print(\"number =\",i+2,\" , \",\"train_accuracie=\",train_accuracies[i],\" , \",\"test_accuracie=\",test_accuracies[i],)"
      ],
      "metadata": {
        "colab": {
          "base_uri": "https://localhost:8080/"
        },
        "id": "YI3wKpzQOYdo",
        "outputId": "51111ad3-da92-4292-fe3c-e59956cfefc8"
      },
      "execution_count": 145,
      "outputs": [
        {
          "output_type": "stream",
          "name": "stdout",
          "text": [
            "number = 2  ,  train_accuracie= 0.8172872266909915  ,  test_accuracie= 0.821779988944168\n",
            "number = 3  ,  train_accuracie= 0.8175636454100672  ,  test_accuracie= 0.8220011055831952\n",
            "number = 4  ,  train_accuracie= 0.8174254360505293  ,  test_accuracie= 0.8215588723051409\n",
            "number = 5  ,  train_accuracie= 0.8170384498438235  ,  test_accuracie= 0.8197899391929243\n",
            "number = 6  ,  train_accuracie= 0.817066091715731  ,  test_accuracie= 0.8207849640685462\n",
            "number = 7  ,  train_accuracie= 0.8169278823561932  ,  test_accuracie= 0.8212271973466003\n",
            "number = 8  ,  train_accuracie= 0.8178953478729579  ,  test_accuracie= 0.8220011055831952\n",
            "number = 9  ,  train_accuracie= 0.8169278823561932  ,  test_accuracie= 0.8210060807075732\n",
            "number = 10  ,  train_accuracie= 0.8175083616662521  ,  test_accuracie= 0.8215588723051409\n",
            "number = 11  ,  train_accuracie= 0.8173425104348067  ,  test_accuracie= 0.821779988944168\n",
            "number = 12  ,  train_accuracie= 0.8174530779224369  ,  test_accuracie= 0.8215588723051409\n",
            "number = 13  ,  train_accuracie= 0.8172872266909915  ,  test_accuracie= 0.8210060807075732\n",
            "number = 14  ,  train_accuracie= 0.8177847803853276  ,  test_accuracie= 0.8223327805417358\n",
            "number = 15  ,  train_accuracie= 0.8172319429471764  ,  test_accuracie= 0.8211166390270868\n",
            "number = 16  ,  train_accuracie= 0.8173977941786218  ,  test_accuracie= 0.8216694306246545\n",
            "number = 17  ,  train_accuracie= 0.817314868562899  ,  test_accuracie= 0.8220011055831952\n",
            "number = 18  ,  train_accuracie= 0.8171490173314537  ,  test_accuracie= 0.8215588723051409\n",
            "number = 19  ,  train_accuracie= 0.8165685380213948  ,  test_accuracie= 0.8213377556661139\n",
            "number = 20  ,  train_accuracie= 0.8172595848190839  ,  test_accuracie= 0.8220011055831952\n",
            "number = 21  ,  train_accuracie= 0.8169002404842856  ,  test_accuracie= 0.8207849640685462\n",
            "number = 22  ,  train_accuracie= 0.8175636454100672  ,  test_accuracie= 0.8212271973466003\n",
            "number = 23  ,  train_accuracie= 0.817066091715731  ,  test_accuracie= 0.8214483139856275\n",
            "number = 24  ,  train_accuracie= 0.8174807197943444  ,  test_accuracie= 0.8222222222222222\n",
            "number = 25  ,  train_accuracie= 0.81662382176521  ,  test_accuracie= 0.8206744057490326\n",
            "number = 26  ,  train_accuracie= 0.8170108079719158  ,  test_accuracie= 0.8216694306246545\n",
            "number = 27  ,  train_accuracie= 0.8171490173314537  ,  test_accuracie= 0.8214483139856275\n",
            "number = 28  ,  train_accuracie= 0.8176189291538823  ,  test_accuracie= 0.8214483139856275\n",
            "number = 29  ,  train_accuracie= 0.8173425104348067  ,  test_accuracie= 0.8214483139856275\n",
            "number = 30  ,  train_accuracie= 0.8168449567404704  ,  test_accuracie= 0.820342730790492\n",
            "number = 31  ,  train_accuracie= 0.8169278823561932  ,  test_accuracie= 0.8204532891100055\n",
            "number = 32  ,  train_accuracie= 0.8171213754595461  ,  test_accuracie= 0.8212271973466003\n",
            "number = 33  ,  train_accuracie= 0.8171213754595461  ,  test_accuracie= 0.8210060807075732\n",
            "number = 34  ,  train_accuracie= 0.8167896729966553  ,  test_accuracie= 0.8197899391929243\n",
            "number = 35  ,  train_accuracie= 0.8165132542775797  ,  test_accuracie= 0.8202321724709785\n",
            "number = 36  ,  train_accuracie= 0.8176189291538823  ,  test_accuracie= 0.8216694306246545\n",
            "number = 37  ,  train_accuracie= 0.8166791055090251  ,  test_accuracie= 0.820342730790492\n",
            "number = 38  ,  train_accuracie= 0.8174807197943444  ,  test_accuracie= 0.8221116639027087\n",
            "number = 39  ,  train_accuracie= 0.8170384498438235  ,  test_accuracie= 0.8212271973466003\n",
            "number = 40  ,  train_accuracie= 0.8175912872819747  ,  test_accuracie= 0.8206744057490326\n",
            "number = 41  ,  train_accuracie= 0.8165408961494872  ,  test_accuracie= 0.8208955223880597\n",
            "number = 42  ,  train_accuracie= 0.8172319429471764  ,  test_accuracie= 0.8212271973466003\n",
            "number = 43  ,  train_accuracie= 0.8168173148685629  ,  test_accuracie= 0.8204532891100055\n",
            "number = 44  ,  train_accuracie= 0.8178124222572353  ,  test_accuracie= 0.8222222222222222\n",
            "number = 45  ,  train_accuracie= 0.816872598612378  ,  test_accuracie= 0.8212271973466003\n",
            "number = 46  ,  train_accuracie= 0.8173425104348067  ,  test_accuracie= 0.8223327805417358\n",
            "number = 47  ,  train_accuracie= 0.8165685380213948  ,  test_accuracie= 0.820563847429519\n",
            "number = 48  ,  train_accuracie= 0.816872598612378  ,  test_accuracie= 0.820563847429519\n",
            "number = 49  ,  train_accuracie= 0.8173977941786218  ,  test_accuracie= 0.8211166390270868\n",
            "number = 50  ,  train_accuracie= 0.8172872266909915  ,  test_accuracie= 0.8208955223880597\n",
            "number = 51  ,  train_accuracie= 0.8167343892528403  ,  test_accuracie= 0.8204532891100055\n",
            "number = 52  ,  train_accuracie= 0.8174807197943444  ,  test_accuracie= 0.8228855721393035\n",
            "number = 53  ,  train_accuracie= 0.8168449567404704  ,  test_accuracie= 0.8215588723051409\n",
            "number = 54  ,  train_accuracie= 0.8175636454100672  ,  test_accuracie= 0.8218905472636816\n",
            "number = 55  ,  train_accuracie= 0.8166514636371175  ,  test_accuracie= 0.8222222222222222\n",
            "number = 56  ,  train_accuracie= 0.8171766592033612  ,  test_accuracie= 0.8214483139856275\n",
            "number = 57  ,  train_accuracie= 0.8166514636371175  ,  test_accuracie= 0.8222222222222222\n",
            "number = 58  ,  train_accuracie= 0.8174807197943444  ,  test_accuracie= 0.8215588723051409\n",
            "number = 59  ,  train_accuracie= 0.8168173148685629  ,  test_accuracie= 0.820563847429519\n",
            "number = 60  ,  train_accuracie= 0.8175083616662521  ,  test_accuracie= 0.8224433388612493\n",
            "number = 61  ,  train_accuracie= 0.8172043010752689  ,  test_accuracie= 0.8222222222222222\n",
            "number = 62  ,  train_accuracie= 0.8170937335876386  ,  test_accuracie= 0.8210060807075732\n",
            "number = 63  ,  train_accuracie= 0.8174807197943444  ,  test_accuracie= 0.8222222222222222\n",
            "number = 64  ,  train_accuracie= 0.8168449567404704  ,  test_accuracie= 0.8214483139856275\n",
            "number = 65  ,  train_accuracie= 0.8164856124056721  ,  test_accuracie= 0.820563847429519\n",
            "number = 66  ,  train_accuracie= 0.8169002404842856  ,  test_accuracie= 0.8208955223880597\n",
            "number = 67  ,  train_accuracie= 0.8169002404842856  ,  test_accuracie= 0.8211166390270868\n",
            "number = 68  ,  train_accuracie= 0.8172595848190839  ,  test_accuracie= 0.820563847429519\n",
            "number = 69  ,  train_accuracie= 0.8173425104348067  ,  test_accuracie= 0.8208955223880597\n",
            "number = 70  ,  train_accuracie= 0.8171766592033612  ,  test_accuracie= 0.8211166390270868\n",
            "number = 71  ,  train_accuracie= 0.8162644774304116  ,  test_accuracie= 0.8213377556661139\n",
            "number = 72  ,  train_accuracie= 0.8167343892528403  ,  test_accuracie= 0.8208955223880597\n",
            "number = 73  ,  train_accuracie= 0.8165961798933024  ,  test_accuracie= 0.8208955223880597\n",
            "number = 74  ,  train_accuracie= 0.8165132542775797  ,  test_accuracie= 0.8208955223880597\n",
            "number = 75  ,  train_accuracie= 0.8169278823561932  ,  test_accuracie= 0.8212271973466003\n",
            "number = 76  ,  train_accuracie= 0.8170937335876386  ,  test_accuracie= 0.8204532891100055\n",
            "number = 77  ,  train_accuracie= 0.8169002404842856  ,  test_accuracie= 0.8215588723051409\n",
            "number = 78  ,  train_accuracie= 0.8173701523067142  ,  test_accuracie= 0.8208955223880597\n",
            "number = 79  ,  train_accuracie= 0.8167620311247478  ,  test_accuracie= 0.820563847429519\n",
            "number = 80  ,  train_accuracie= 0.8165961798933024  ,  test_accuracie= 0.8214483139856275\n",
            "number = 81  ,  train_accuracie= 0.8165408961494872  ,  test_accuracie= 0.8210060807075732\n",
            "number = 82  ,  train_accuracie= 0.8169555242281007  ,  test_accuracie= 0.8206744057490326\n",
            "number = 83  ,  train_accuracie= 0.8170937335876386  ,  test_accuracie= 0.820342730790492\n",
            "number = 84  ,  train_accuracie= 0.8172595848190839  ,  test_accuracie= 0.821779988944168\n",
            "number = 85  ,  train_accuracie= 0.8162091936865965  ,  test_accuracie= 0.8201216141514649\n",
            "number = 86  ,  train_accuracie= 0.8169002404842856  ,  test_accuracie= 0.821779988944168\n",
            "number = 87  ,  train_accuracie= 0.8169002404842856  ,  test_accuracie= 0.8211166390270868\n",
            "number = 88  ,  train_accuracie= 0.8172872266909915  ,  test_accuracie= 0.821779988944168\n",
            "number = 89  ,  train_accuracie= 0.8171490173314537  ,  test_accuracie= 0.8213377556661139\n",
            "number = 90  ,  train_accuracie= 0.8167896729966553  ,  test_accuracie= 0.8200110558319513\n",
            "number = 91  ,  train_accuracie= 0.8170108079719158  ,  test_accuracie= 0.8223327805417358\n",
            "number = 92  ,  train_accuracie= 0.816872598612378  ,  test_accuracie= 0.8215588723051409\n",
            "number = 93  ,  train_accuracie= 0.8164026867899494  ,  test_accuracie= 0.8207849640685462\n",
            "number = 94  ,  train_accuracie= 0.8167067473809326  ,  test_accuracie= 0.8210060807075732\n",
            "number = 95  ,  train_accuracie= 0.8164579705337646  ,  test_accuracie= 0.8201216141514649\n",
            "number = 96  ,  train_accuracie= 0.8165961798933024  ,  test_accuracie= 0.8213377556661139\n",
            "number = 97  ,  train_accuracie= 0.8167896729966553  ,  test_accuracie= 0.8211166390270868\n",
            "number = 98  ,  train_accuracie= 0.8168449567404704  ,  test_accuracie= 0.8210060807075732\n",
            "number = 99  ,  train_accuracie= 0.8165132542775797  ,  test_accuracie= 0.820563847429519\n",
            "number = 100  ,  train_accuracie= 0.8173701523067142  ,  test_accuracie= 0.8213377556661139\n"
          ]
        }
      ]
    },
    {
      "cell_type": "code",
      "source": [
        "# Find the best model\n",
        "index_of_best = np.argmax(test_accuracies)\n",
        "k = np.arange(2, 101)[index_of_best]\n",
        "best_train_accuracy = train_accuracies[index_of_best]\n",
        "best_test_accuracy = test_accuracies[index_of_best]\n",
        "print(\" best number of parts =\",k,\"\\n\",\"train_accuracie=\",best_train_accuracy,\"\\n\",\"test_accuracie=\",best_test_accuracy)"
      ],
      "metadata": {
        "colab": {
          "base_uri": "https://localhost:8080/"
        },
        "id": "TDXZj5o73Qag",
        "outputId": "5e286bbc-b8ed-45ee-f588-49e74df36ee5"
      },
      "execution_count": 153,
      "outputs": [
        {
          "output_type": "stream",
          "name": "stdout",
          "text": [
            " best number of parts = 52 \n",
            " train_accuracie= 0.8174807197943444 \n",
            " test_accuracie= 0.8228855721393035\n"
          ]
        }
      ]
    },
    {
      "cell_type": "code",
      "source": [
        "# Plot metrics versus number of classes\n",
        "plt.plot(np.arange(2, 101), train_accuracies,label=\"train_accuracies\")\n",
        "plt.plot(np.arange(2, 101), test_accuracies,label=\"test_accuracies\")\n",
        "\n",
        "plt.xlabel('number of parts')\n",
        "plt.ylabel('accuracies')\n",
        "plt.title('accuracies vs. number of parts')\n",
        "plt.legend()\n",
        "plt.grid(which='both')\n",
        "plt.minorticks_on()\n",
        "plt.show()"
      ],
      "metadata": {
        "colab": {
          "base_uri": "https://localhost:8080/",
          "height": 472
        },
        "id": "ki9xWyeV16nB",
        "outputId": "2b330416-7afa-4bee-eed8-4a36dd22e5b9"
      },
      "execution_count": 148,
      "outputs": [
        {
          "output_type": "display_data",
          "data": {
            "text/plain": [
              "<Figure size 640x480 with 1 Axes>"
            ],
            "image/png": "[encoded data removed]"
          },
          "metadata": {}
        }
      ]
    },
    {
      "cell_type": "markdown",
      "source": [
        "**Question:** Analyze the results."
      ],
      "metadata": {
        "id": "XXs1IMQRUoS9"
      }
    },
    {
      "cell_type": "markdown",
      "source": [
        "**Your Answer:**\n",
        "\n",
        "As can be seen from the graphs, changing the number of sections did not have a big impact on the performance of the models."
      ],
      "metadata": {
        "id": "EAvtAuxuUs-4"
      }
    }
  ]
}
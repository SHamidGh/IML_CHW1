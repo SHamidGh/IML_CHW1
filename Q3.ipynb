{
 "cells": [
  {
   "cell_type": "markdown",
   "id": "5f42a3ce",
   "metadata": {},
   "source": [
    "<h1 align=\"center\">Introduction to Machine Learning - 25737-2</h1>\n",
    "<h4 align=\"center\">Dr. R. Amiri</h4>\n",
    "<h4 align=\"center\">Sharif University of Technology, Spring 2024</h4>\n",
    "\n",
    "\n",
    "**<font color='red'>Plagiarism is strongly prohibited!</font>**\n",
    "\n",
    "\n",
    "**Student Name**: Seyed Hamid Ghasemi\n",
    "\n",
    "**Student ID**: 400109768\n",
    "\n",
    "\n",
    "\n"
   ]
  },
  {
   "cell_type": "markdown",
   "id": "a01c559e",
   "metadata": {},
   "source": [
    "## Importing Libraries\n",
    "\n",
    "First we import libraries that we need for this assignment."
   ]
  },
  {
   "cell_type": "code",
   "execution_count": 1,
   "id": "0423187e",
   "metadata": {
    "ExecuteTime": {
     "end_time": "2024-04-28T19:35:03.548986300Z",
     "start_time": "2024-04-28T19:34:56.098896700Z"
    }
   },
   "outputs": [],
   "source": [
    "# import any other libraries needed below\n",
    "\n",
    "import numpy as np\n",
    "import pandas as pd\n",
    "from sklearn.model_selection import train_test_split\n",
    "from sklearn.naive_bayes import GaussianNB\n",
    "from sklearn.metrics import accuracy_score\n",
    "import matplotlib.pyplot as plt\n",
    "from sklearn.discriminant_analysis import LinearDiscriminantAnalysis\n",
    "\n"
   ]
  },
  {
   "cell_type": "markdown",
   "id": "2f795731",
   "metadata": {},
   "source": [
    "## Reading Data and Preprocessing\n",
    "\n",
    "In this section, we want to read data from a CSV file and then preprocess it to make it ready for the rest of the problem.\n",
    "\n",
    "First, we read the data in the cell below and extract an $m \\times n$ matrix, $X$, and an $m \\times 1$ vector, $Y$, from it, which represent our knowledge about the features of the data (`X1`, `X2`, `X3`) and the class (`Y`), respectively. Note that by $m$, we mean the number of data points and by $n$, we mean the number of features."
   ]
  },
  {
   "cell_type": "code",
   "execution_count": 2,
   "id": "410e750d",
   "metadata": {
    "ExecuteTime": {
     "end_time": "2024-04-28T21:12:21.488054500Z",
     "start_time": "2024-04-28T21:12:21.419546800Z"
    }
   },
   "outputs": [
    {
     "name": "stdout",
     "output_type": "stream",
     "text": [
      "(10000, 3)\n",
      "(10000,)\n"
     ]
    },
    {
     "data": {
      "text/plain": "array([[282.297683  ,  12.49024951,  67.87536941],\n       [ -3.13063135, 151.9609093 ,  27.21868028],\n       [-60.57513357,  27.72038027,  76.63438079],\n       ...,\n       [746.479093  , -25.83987506,  17.70013152],\n       [-75.49166624, -82.93073882,  19.74406759],\n       [794.5164743 , -61.74544262,  -2.12382686]])"
     },
     "execution_count": 2,
     "metadata": {},
     "output_type": "execute_result"
    }
   ],
   "source": [
    "X, Y = None, None\n",
    "\n",
    "### START CODE HERE ###\n",
    "# Load the CSV file into a DataFrame\n",
    "df = pd.read_csv('Q3\\data2_logistic.csv')\n",
    "\n",
    "# Extract the features and target variable\n",
    "X = df[['X1', 'X2', 'X3']].to_numpy()\n",
    "Y = df['Y'].to_numpy()\n",
    "\n",
    "### END CODE HERE ###\n",
    "print(X.shape)\n",
    "print(Y.shape)\n",
    "X"
   ]
  },
  {
   "cell_type": "markdown",
   "id": "866734e2",
   "metadata": {},
   "source": [
    "Next, we should normalize our data. For normalizing a vector $\\mathbf{x}$, a very common method is to use this formula:\n",
    "\n",
    "$$\n",
    "\\mathbf{x}_{norm} = \\dfrac{\\mathbf{x} - \\overline{\\mathbf{x}}}{\\sigma_\\mathbf{x}}\n",
    "$$\n",
    "\n",
    "Here, $\\overline{x}$ and $\\sigma_\\mathbf{x}$ denote the mean and standard deviation of vector $\\mathbf{x}$, respectively. Use this formula and store the new $X$ and $Y$ vectors in the cell below.\n",
    "\n",
    "**Question**: Briefly explain why we need to normalize our data before starting the training.\n",
    "\n",
    "**Answer**:\n",
    "1. *Sensitivity to feature scale:*\n",
    "* Logistic regression, as well as other linear models, are sensitive to the scale of the features. If the features have vastly different scales, the model may \"think\" that features with larger scales are more important, even if they are not.\n",
    "* Normalization helps to remove this bias by scaling all features to a common range, typically 0 to 1 or -1 to 1.\n",
    "\n",
    "2. Avoiding the vanishing gradient problem:\n",
    "* During the training phase of logistic regression, the model uses gradient-based optimization techniques, such as gradient descent, to update the model parameters.\n",
    "If the features have vastly different scales, the gradients for the features with larger scales may become very small, leading to the vanishing gradient problem. This can slow down or even prevent the model from converging to the optimal solution.\n",
    "* Normalizing the data helps to ensure that the gradients for all features have a similar scale, which can improve the convergence of the optimization algorithm.\n",
    "\n",
    "3. Improving model interpretability:\n",
    "* The coefficients in a logistic regression model represent the relative importance of each feature in the prediction.\n",
    "If the features are not normalized, the magnitudes of the coefficients will be influenced by the scale of the features, making it difficult to interpret their relative importance.\n",
    "Normalizing the data can help to make the coefficients more interpretable, as they will reflect the relative importance of the features on the same scale."
   ]
  },
  {
   "cell_type": "code",
   "execution_count": 3,
   "id": "9e757eb0",
   "metadata": {
    "ExecuteTime": {
     "end_time": "2024-04-28T21:12:26.681821900Z",
     "start_time": "2024-04-28T21:12:26.665830400Z"
    }
   },
   "outputs": [],
   "source": [
    "### START CODE HERE ###\n",
    "\n",
    "#normalize the features to have zero mean and unit variance\n",
    "X = (X - np.mean(X, axis=0)) / np.std(X, axis=0)\n",
    "\n",
    "### END CODE HERE ###"
   ]
  },
  {
   "cell_type": "code",
   "execution_count": 4,
   "outputs": [
    {
     "data": {
      "text/plain": "array([[-0.39714618, -0.18621464,  1.39965469],\n       [-1.3868325 ,  1.67490288,  0.07882144],\n       [-1.586014  ,  0.01701852,  1.68421286],\n       ...,\n       [ 1.21234373, -0.6976976 , -0.23041219],\n       [-1.63773518, -1.45952669, -0.16400986],\n       [ 1.37890723, -1.17682691, -0.87444258]])"
     },
     "execution_count": 4,
     "metadata": {},
     "output_type": "execute_result"
    }
   ],
   "source": [
    "X"
   ],
   "metadata": {
    "collapsed": false,
    "ExecuteTime": {
     "end_time": "2024-04-28T21:12:31.203908400Z",
     "start_time": "2024-04-28T21:12:31.186953800Z"
    }
   }
  },
  {
   "cell_type": "markdown",
   "id": "5465bfa4",
   "metadata": {},
   "source": [
    "Finally, we should add a column of $1$s at the beginning of $X$ to represent the bias term. Do this in the next cell. Note that after this process, $X$ should be an $m \\times (n+1)$ matrix."
   ]
  },
  {
   "cell_type": "code",
   "execution_count": 5,
   "id": "b9a60f1f",
   "metadata": {
    "ExecuteTime": {
     "end_time": "2024-04-28T21:12:36.811900500Z",
     "start_time": "2024-04-28T21:12:36.801926500Z"
    }
   },
   "outputs": [
    {
     "name": "stdout",
     "output_type": "stream",
     "text": [
      "(10000, 4)\n"
     ]
    },
    {
     "data": {
      "text/plain": "array([[ 1.        , -0.39714618, -0.18621464,  1.39965469],\n       [ 1.        , -1.3868325 ,  1.67490288,  0.07882144],\n       [ 1.        , -1.586014  ,  0.01701852,  1.68421286],\n       ...,\n       [ 1.        ,  1.21234373, -0.6976976 , -0.23041219],\n       [ 1.        , -1.63773518, -1.45952669, -0.16400986],\n       [ 1.        ,  1.37890723, -1.17682691, -0.87444258]])"
     },
     "execution_count": 5,
     "metadata": {},
     "output_type": "execute_result"
    }
   ],
   "source": [
    "### START CODE HERE ###\n",
    "\n",
    "# Add a column of 1s at the beginning of X to represent the bias term\n",
    "X = np.insert(X, 0, np.ones((X.shape[0])), axis=1)\n",
    "\n",
    "### END CODE HERE ###\n",
    "print(X.shape)\n",
    "X"
   ]
  },
  {
   "cell_type": "markdown",
   "id": "5cdf0d78",
   "metadata": {},
   "source": [
    "## Training Model"
   ]
  },
  {
   "cell_type": "markdown",
   "id": "c8714abe",
   "metadata": {},
   "source": [
    "### Sigmoid Function\n",
    "You should begin by implementing the $\\sigma(\\mathbf{x})$ function. Recall that the logistic regression hypothesis $\\mathcal{h}()$ is defined as:\n",
    "$$\n",
    "\\mathcal{h}_{\\theta}(\\mathbf{x}) = \\mathcal{g}(\\theta^\\mathbf{T}\\mathbf{x})\n",
    "$$\n",
    "where $\\mathcal{g}()$ is the sigmoid function as:\n",
    "$$\n",
    "\\mathcal{g}(\\mathbf{z}) = \\frac{1}{1+exp^{-\\mathbf{z}}}\n",
    "$$\n",
    "The Sigmoid function has the property that $\\mathbf{g}(+\\infty)\\approx 1$ and $\\mathcal{g}(−\\infty)\\approx0$. Test your function by calling `sigmoid(z)` on different test samples. Be certain that your sigmoid function works with both vectors and matrices - for either a vector or a matrix, your function should perform the sigmoid function on every element."
   ]
  },
  {
   "cell_type": "code",
   "execution_count": 6,
   "id": "6a6b6ae4",
   "metadata": {
    "ExecuteTime": {
     "end_time": "2024-04-28T21:12:42.041205700Z",
     "start_time": "2024-04-28T21:12:42.017427700Z"
    }
   },
   "outputs": [],
   "source": [
    "def sigmoid(Z):\n",
    "    '''\n",
    "    Applies the sigmoid function on every element of Z\n",
    "    Arguments:\n",
    "        Z can be a (n,) vector or (n , m) matrix\n",
    "    Returns:\n",
    "        A vector/matrix, same shape with Z, that has the sigmoid function applied elementwise\n",
    "    '''\n",
    "    ### START CODE HERE ###\n",
    "    return 1 / (1 + np.exp(-np.array(Z)))\n",
    "    ### END CODE HERE ###"
   ]
  },
  {
   "cell_type": "code",
   "execution_count": 7,
   "outputs": [
    {
     "name": "stdout",
     "output_type": "stream",
     "text": [
      "sigmoid( 0 )= 0.5 \n",
      "\n",
      "sigmoid( inf )= 1.0 \n",
      "\n",
      "sigmoid( -inf )= 0.0 \n",
      "\n",
      "sigmoid( [1, 2, 3] )= [0.73105858 0.88079708 0.95257413] \n",
      "\n",
      "sigmoid( [[1, 2, 3], [4, 5, 6]] )=\n",
      " [[0.73105858 0.88079708 0.95257413]\n",
      " [0.98201379 0.99330715 0.99752738]] \n",
      "\n"
     ]
    }
   ],
   "source": [
    "#scaler:\n",
    "a=0\n",
    "print(\"sigmoid(\",a,\")=\",sigmoid(a),\"\\n\")\n",
    "a= np.inf\n",
    "print(\"sigmoid(\",a,\")=\",sigmoid(a),\"\\n\")\n",
    "a= -np.inf\n",
    "print(\"sigmoid(\",a,\")=\",sigmoid(a),\"\\n\")\n",
    "\n",
    "#vector:\n",
    "a2 = ([1,2,3])\n",
    "print(\"sigmoid(\",a2,\")=\",sigmoid(a2),\"\\n\")\n",
    "\n",
    "#matrix:\n",
    "a3 = ([[1,2,3],[4,5,6]])\n",
    "print(\"sigmoid(\",a3,\")=\\n\",sigmoid(a3),\"\\n\")"
   ],
   "metadata": {
    "collapsed": false,
    "ExecuteTime": {
     "end_time": "2024-04-28T21:12:47.648247600Z",
     "start_time": "2024-04-28T21:12:47.627277200Z"
    }
   }
  },
  {
   "cell_type": "markdown",
   "id": "83846074",
   "metadata": {},
   "source": [
    "### Cost Function \n",
    "Implement the functions to compute the cost function. Recall the cost function for logistic regression is a scalar value given by:\n",
    "$$\n",
    "\\mathcal{J}(\\theta) = \\sum_{i=1}^{n}[-y^{(i)}\\log{(\\mathcal{h}_\\theta(\\mathbf{x}^{(i)}))}-(1-y^{(i)})\\log{(1-\\mathcal{h}_\\theta(\\mathbf{x}^{(i)}))}] + \\frac{\\lambda}{2}||\\theta||_2^2\n",
    "$$"
   ]
  },
  {
   "cell_type": "code",
   "execution_count": 8,
   "id": "26a9bdeb",
   "metadata": {
    "ExecuteTime": {
     "end_time": "2024-04-28T21:12:56.024430100Z",
     "start_time": "2024-04-28T21:12:56.011430300Z"
    }
   },
   "outputs": [],
   "source": [
    "def computeCost(theta, X, y, regLambda):\n",
    "    '''\n",
    "    Computes the objective function\n",
    "    Arguments:\n",
    "        theta is d-dimensional numpy vector\n",
    "        X is a n-by-d numpy matrix\n",
    "        y is an n-dimensional numpy vector\n",
    "        regLambda is the scalar regularization constant\n",
    "    Returns:\n",
    "        a scalar value of the cost  ** make certain you're not returning a 1 x 1 matrix! **\n",
    "    '''\n",
    "    \n",
    "    m, n = X.shape\n",
    "    loss = None\n",
    "    ### START CODE HERE ###\n",
    "    h = sigmoid(X @ theta)\n",
    "    loss = -1/m*(np.sum(y * np.log(h) + (1 - y) * np.log(1 - h))) + regLambda / (2 * m) * np.sum(theta[1:]**2)\n",
    "\n",
    "    ### END CODE HERE ###\n",
    "    return loss"
   ]
  },
  {
   "cell_type": "markdown",
   "id": "6eaf1146",
   "metadata": {},
   "source": [
    "### Gradient of the Cost Function\n",
    "Now, we want to calculate the gradient of the cost function. The gradient of the cost function is a d-dimensional vector.\\\n",
    "We must be careful not to regularize the $\\theta_0$ parameter (corresponding to the first feature we add to each instance), and so the 0's element is given by:\n",
    "$$\n",
    "\\frac{\\partial \\mathcal{J}(\\theta)}{\\partial \\theta_0} = \\frac{1}{m} \\sum_{i=1}^m (\\mathcal{h}_\\theta(\\mathbf{x}^{(i)})-y^{(i)})\n",
    "$$\n",
    "\n",
    "Question: What is the answer to this problem for the $j^{th}$ element (for $j=1...d$)?\n",
    "\n",
    "Answer:\n",
    "$$\n",
    "\\frac{\\partial \\mathcal{J}(\\theta)}{\\partial \\theta_i} = \\frac{1}{m} \\sum_{i=1}^m (\\mathcal{h}_\\theta(\\mathbf{x}^{(i)})-y^{(i)})*\\mathbf{x}^{(i)} + \\frac{\\lambda}{m} \\theta_i\n",
    "$$"
   ]
  },
  {
   "cell_type": "code",
   "execution_count": 9,
   "id": "35f7c2dd",
   "metadata": {
    "ExecuteTime": {
     "end_time": "2024-04-28T21:13:00.046203500Z",
     "start_time": "2024-04-28T21:13:00.038225500Z"
    }
   },
   "outputs": [],
   "source": [
    "def computeGradient(theta, X, y, regLambda):\n",
    "    '''\n",
    "    Computes the gradient of the objective function\n",
    "    Arguments:\n",
    "        theta is d-dimensional numpy vector\n",
    "        X is a n-by-d numpy matrix\n",
    "        y is an n-dimensional numpy vector\n",
    "        regLambda is the scalar regularization constant\n",
    "    Returns:\n",
    "        the gradient, an d-dimensional vector\n",
    "    '''\n",
    "    \n",
    "    m, n = X.shape\n",
    "    grad = None\n",
    "    ### START CODE HERE ###\n",
    "    h = sigmoid(X @ theta)\n",
    "    grad = np.zeros(np.shape(theta))\n",
    "\n",
    "    grad[0]= 1/m * np.inner((h-y),X[:,0])\n",
    "    for i in range(3):\n",
    "        grad[i+1] = 1/m * np.inner((h-y),X[:,i+1]) + regLambda/m * theta[i+1]\n",
    "\n",
    "\n",
    "    ### END CODE HERE ###\n",
    "    return grad"
   ]
  },
  {
   "cell_type": "markdown",
   "id": "24bc86bd",
   "metadata": {},
   "source": [
    "### Training and Prediction\n",
    "Once you have the cost and gradient functions complete, implemen tthe fit and predict methods.\\\n",
    "Your fit method should train the model via gradient descent, relying on the cost and gradient functions. This function should return two parameters. The first parameter is $\\theta$, and the second parameter is a `numpy` array that contains the loss in each iteration. This array is indicated by `loss_history` in the code.\\\n",
    "Instead of simply running gradient descent for a specific number of iterations, we will use a more sophisticated method: we will stop it after the solution hasconverged. Stop the gradient descent procedure when $\\theta$ stops changing between consecutive iterations. You can detect this convergence when:\n",
    "$$\n",
    "||\\theta_{new}-\\theta_{old}||_2 <= \\epsilon,\n",
    "$$\n",
    "for some small $\\epsilon$ (e.g, $\\epsilon=10E-4$).\\\n",
    "For readability, we’d recommend implementing this convergence test as a dedicated function `hasConverged`."
   ]
  },
  {
   "cell_type": "code",
   "execution_count": 10,
   "id": "cc0cad78",
   "metadata": {
    "ExecuteTime": {
     "end_time": "2024-04-28T21:13:04.328755400Z",
     "start_time": "2024-04-28T21:13:04.321765Z"
    }
   },
   "outputs": [],
   "source": [
    "def fit(X, y, regLambda = 0.01, alpha = 0.01, epsilon = 1e-4, maxNumIters = 100):\n",
    "    '''\n",
    "    Trains the model\n",
    "    Arguments:\n",
    "        X           is a n-by-d numpy matrix\n",
    "        y           is an n-dimensional numpy vector\n",
    "        maxNumIters is the maximum number of gradient descent iterations\n",
    "        regLambda   is the scalar regularization constant\n",
    "        epsilon     is the convergence rate\n",
    "        alpha       is the gradient descent learning rate\n",
    "    '''\n",
    "    \n",
    "    m, n = X.shape\n",
    "    theta, loss_history = None, None\n",
    "\n",
    "    ### START CODE HERE ###\n",
    "    theta = np.zeros(n)\n",
    "    loss_history = []\n",
    "    index = 0\n",
    "    while True:\n",
    "        if index >= maxNumIters :\n",
    "            break\n",
    "        else:\n",
    "            index += 1\n",
    "\n",
    "        grad = computeGradient(theta, X, y, regLambda)\n",
    "\n",
    "        # Update the parameters\n",
    "        theta_new = theta - alpha * grad\n",
    "\n",
    "        cost = computeCost(theta_new, X, y, regLambda)\n",
    "        loss_history.append(cost)\n",
    "\n",
    "        # Check for convergence\n",
    "        if hasConverged(theta, theta_new, epsilon):\n",
    "            theta = theta_new\n",
    "            break\n",
    "\n",
    "        theta = theta_new\n",
    "\n",
    "    ### END CODE HERE ###\n",
    "    return theta, loss_history\n",
    "\n",
    "\n",
    "\n",
    "\n",
    "def hasConverged(theta_old, theta_new, epsilon):\n",
    "    '''\n",
    "    Return if the theta converged or not\n",
    "    Arguments:\n",
    "        theta_old   is the theta calculated in prevoius iteration\n",
    "        theta_new   is the theta calculated in current iteration\n",
    "        epsilon     is the convergence rate\n",
    "    '''\n",
    "    \n",
    "    ### START CODE HERE ###\n",
    "    if np.linalg.norm(theta_new-theta_old) <= epsilon:\n",
    "        return True\n",
    "    ### END CODE HERE ###\n",
    "    return False"
   ]
  },
  {
   "cell_type": "markdown",
   "id": "bb648852",
   "metadata": {},
   "source": [
    "Finally, we want to evaluate our loss for this problem. Complete the cell below to calculate and print the loss of each iteration and the final theta of your model."
   ]
  },
  {
   "cell_type": "code",
   "execution_count": 11,
   "id": "252e556f",
   "metadata": {
    "ExecuteTime": {
     "end_time": "2024-04-28T21:13:09.251197700Z",
     "start_time": "2024-04-28T21:13:09.124726100Z"
    }
   },
   "outputs": [
    {
     "name": "stdout",
     "output_type": "stream",
     "text": [
      "theta =  [-0.07917594 -0.12794085  0.34107905  0.00717197]\n",
      "\n",
      "[0.6913809060118177, 0.6896234948289701, 0.6878749023208994, 0.6861350838563361, 0.6844039948667454, 0.6826815908497671, 0.6809678273725951, 0.6792626600752987, 0.677566044674081, 0.6758779369644807, 0.6741982928245116, 0.6725270682177437, 0.6708642191963253, 0.6692097019039447, 0.6675634725787336, 0.6659254875561126, 0.6642957032715767, 0.6626740762634233, 0.661060563175422, 0.6594551207594275, 0.6578577058779349, 0.6562682755065772, 0.6546867867365673, 0.653113196777083, 0.6515474629575974, 0.6499895427301515, 0.6484393936715747, 0.6468969734856482, 0.6453622400052161, 0.6438351511942413, 0.6423156651498089, 0.6408037401040767, 0.6392993344261743, 0.6378024066240477, 0.6363129153462561, 0.6348308193837151, 0.6333560776713911, 0.6318886492899456, 0.6304284934673297, 0.6289755695803306, 0.6275298371560701, 0.6260912558734544, 0.6246597855645778, 0.6232353862160802, 0.6218180179704573, 0.6204076411273268, 0.6190042161446488, 0.6176077036399032, 0.6162180643912223, 0.6148352593384802, 0.6134592495843418, 0.612089996395267, 0.6107274612024757, 0.6093716056028708, 0.6080223913599233, 0.6066797804045141, 0.6053437348357404, 0.6040142169216824, 0.6026911891001314, 0.6013746139792819, 0.6000644543383872, 0.5987606731283778, 0.5974632334724453, 0.5961720986665919, 0.5948872321801438, 0.5936085976562337, 0.592336158912247, 0.5910698799402382, 0.589809724907314, 0.5885556581559851, 0.5873076442044877, 0.5860656477470739, 0.5848296336542733, 0.583599566973125, 0.5823754129273806, 0.5811571369176805, 0.5799447045217012, 0.5787380814942757, 0.5775372337674894, 0.5763421274507479, 0.5751527288308195, 0.5739690043718555, 0.5727909207153825, 0.5716184446802733, 0.5704515432626939, 0.5692901836360276, 0.5681343331507761, 0.5669839593344402, 0.5658390298913788, 0.5646995127026453, 0.5635653758258055, 0.5624365874947355, 0.5613131161193993, 0.5601949302856075, 0.5590819987547584, 0.5579742904635592, 0.5568717745237323, 0.555774420221701, 0.5546821970182613, 0.5535950745482358]\n"
     ]
    }
   ],
   "source": [
    "theta, loss_history = fit(X, Y) # calculating theta and loss of each iteration\n",
    "\n",
    "### START CODE HERE ###\n",
    "print(\"theta = \",theta)\n",
    "print()\n",
    "print(loss_history)\n",
    "### END CODE HERE ###"
   ]
  },
  {
   "cell_type": "markdown",
   "id": "f4b3fab6",
   "metadata": {},
   "source": [
    "### Testing Your Implementation\n",
    "To test your logistic regression implementation, first you should use `train_test_split` function to split dataset into three parts:\n",
    "\n",
    "- 70% for the training set\n",
    "- 20% for the validation set\n",
    "- 10% for the test set\n",
    "\n",
    "Do this in the cell below."
   ]
  },
  {
   "cell_type": "code",
   "execution_count": 13,
   "id": "4518fe11",
   "metadata": {
    "ExecuteTime": {
     "end_time": "2024-04-28T21:51:42.129392200Z",
     "start_time": "2024-04-28T21:51:42.092427800Z"
    }
   },
   "outputs": [
    {
     "name": "stdout",
     "output_type": "stream",
     "text": [
      "Training set shape: (7000, 4) (7000,)\n",
      "Validation set shape: (2000, 4) (2000,)\n",
      "Test set shape: (1000, 4) (1000,)\n"
     ]
    }
   ],
   "source": [
    "X_train, Y_train, X_val, Y_val, X_test, Y_test = None, None, None, None, None, None\n",
    "\n",
    "### START CODE HERE ###\n",
    "\n",
    "# Assuming X and y are your feature matrix and target variable\n",
    "X_train, X_temp, y_train, y_temp = train_test_split(X, Y, test_size=0.3, random_state=42)\n",
    "X_val, X_test, y_val, y_test = train_test_split(X_temp, y_temp, test_size=0.33333, random_state=42)\n",
    "\n",
    "# Print the shapes of the resulting sets\n",
    "print(\"Training set shape:\", X_train.shape, y_train.shape)\n",
    "print(\"Validation set shape:\", X_val.shape, y_val.shape)\n",
    "print(\"Test set shape:\", X_test.shape, y_test.shape)\n",
    "\n",
    "### END CODE HERE ###"
   ]
  },
  {
   "cell_type": "markdown",
   "id": "f9fbe5d7",
   "metadata": {},
   "source": [
    "Then, you should complete `predict` function to find the weight vector and the loss on the test data."
   ]
  },
  {
   "cell_type": "code",
   "execution_count": 14,
   "id": "95c2fe20",
   "metadata": {
    "ExecuteTime": {
     "end_time": "2024-04-28T21:51:50.455362Z",
     "start_time": "2024-04-28T21:51:50.445374Z"
    }
   },
   "outputs": [],
   "source": [
    "def predict(X, theta):\n",
    "    '''\n",
    "    Use the model to predict values for each instance in X\n",
    "    Arguments:\n",
    "        theta is d-dimensional numpy vector\n",
    "        X     is a n-by-d numpy matrix\n",
    "    Returns:\n",
    "        an n-dimensional numpy vector of the predictions, the output should be binary (use h_theta > .5)\n",
    "    '''\n",
    "    \n",
    "    Y = None\n",
    "    ### START CODE HERE ###\n",
    "    h = sigmoid(X @ theta)\n",
    "    Y = (h >= 0.5).astype(int)\n",
    "    ### END CODE HERE ###\n",
    "    return Y"
   ]
  },
  {
   "cell_type": "markdown",
   "id": "246d1c02",
   "metadata": {},
   "source": [
    "\n",
    "Now, run the `fit` and `predict` function for different values of the learning rate and regularization constant. Plot the `loss_history` of these different values for train and test data both in the same figure.\n",
    "\n",
    "**Question**: Discuss the effect of the learning rate and regularization constant and find the best values of these parameters.\n",
    "\n",
    "**Answer**:\n",
    "The effect of the learning rate and regularization constant in logistic regression is crucial for model performance and generalization. Here is a discussion on their impact and how to find the best values for these parameters:\n",
    "\n",
    "1. **Learning Rate:**\n",
    "The learning rate controls how quickly the model learns from the training data during gradient descent.\n",
    "A high learning rate can lead to overshooting the minimum of the cost function, causing instability and divergence.\n",
    "A low learning rate may result in slow convergence and longer training times.\n",
    "The optimal learning rate balances the trade-off between convergence speed and stability.\n",
    "\n",
    "\n",
    "2. **Regularization Constant:**\n",
    "The regularization constant (lambda) controls the impact of the regularization term in the cost function.\n",
    "Regularization helps prevent overfitting by penalizing large weights in the model.\n",
    "A higher regularization constant leads to smaller coefficients and a simpler model, reducing overfitting.\n",
    "Too high a regularization constant can lead to underfitting, where the model is too simple and fails to capture the underlying patterns in the data.\n",
    "\n",
    "3. **Finding the Best Values:**\n",
    "To find the best values of the learning rate and regularization constant, we can perform hyperparameter tuning using techniques like grid search or random search.\n",
    "Define a grid of learning rates and regularization constants to explore different combinations.\n",
    "Train multiple models with varying hyperparameters on the training set and evaluate their performance on the validation set.\n",
    "Choose the hyperparameters that result in the best performance metrics on the validation set.\n",
    "Finally, evaluate the selected model on the test set to assess its generalization performance.\n",
    "\n",
    "4. **Impact on Model Performance:**\n",
    "The learning rate and regularization constant play a critical role in balancing model complexity and generalization.\n",
    "Optimal values of these parameters can lead to a well-generalized model that performs well on unseen data.\n",
    "The learning rate affects the convergence speed, while the regularization constant controls the model's complexity."
   ]
  },
  {
   "cell_type": "code",
   "execution_count": 39,
   "id": "cd2af382",
   "metadata": {
    "ExecuteTime": {
     "end_time": "2024-04-28T22:10:41.669755600Z",
     "start_time": "2024-04-28T22:10:39.987686Z"
    }
   },
   "outputs": [
    {
     "name": "stdout",
     "output_type": "stream",
     "text": [
      "Best hyperparameters - Learning Rate: 0.1 Regularization Constant: 100\n",
      "Test set accuracy: 0.97\n",
      "Train set accuracy: 0.9754444444444444\n"
     ]
    },
    {
     "data": {
      "text/plain": "<Figure size 1000x600 with 1 Axes>",
      "image/png": "[encoded data removed]"
     },
     "metadata": {},
     "output_type": "display_data"
    }
   ],
   "source": [
    "### START CODE HERE ###\n",
    "\n",
    "\n",
    "# Define lists of learning rates and regularization constants to try\n",
    "learning_rates = [0.001,0.01,0.1]\n",
    "regularization_constants = [0.1 ,100, 100000]\n",
    "\n",
    "best_accuracy = 0\n",
    "best_theta = None\n",
    "best_lr = None\n",
    "best_reg = None\n",
    "\n",
    "lr_list = []\n",
    "reg_list = []\n",
    "loss_list = []\n",
    "\n",
    "for lr in learning_rates:\n",
    "    for reg in regularization_constants:\n",
    "        reg_list.append(reg)\n",
    "        lr_list.append(lr)\n",
    "        # Train the logistic regression model on the training set\n",
    "        theta, loss = fit(X_train, y_train, reg, lr)\n",
    "        loss_list.append(loss)\n",
    "\n",
    "        # Make predictions on the validation set\n",
    "        y_pred = predict(X_val, theta)\n",
    "\n",
    "        # Evaluate the model's performance on the validation set\n",
    "        accuracy = np.mean(y_pred == y_val)\n",
    "\n",
    "        # Check if this model is the best so far\n",
    "        if accuracy > best_accuracy:\n",
    "            best_accuracy = accuracy\n",
    "            best_theta = theta\n",
    "            best_lr = lr\n",
    "            best_reg = reg\n",
    "\n",
    "# Train the final model using the best hyperparameters on the combined training and validation sets\n",
    "final_theta, _ = fit(np.vstack((X_train, X_val)), np.concatenate((y_train, y_val)), best_reg, best_lr)\n",
    "\n",
    "# Evaluate the final model on the test set\n",
    "y_pred_test = predict(X_test, final_theta)\n",
    "test_accuracy = np.mean(y_pred_test == y_test)\n",
    "\n",
    "# Evaluate the final model on the train set\n",
    "y_pred_train = predict(np.vstack((X_train, X_val)) , final_theta)\n",
    "train_accuracy = np.mean(y_pred_train == np.concatenate((y_train, y_val)))\n",
    "\n",
    "\n",
    "print(\"Best hyperparameters - Learning Rate:\", best_lr, \"Regularization Constant:\", best_reg)\n",
    "print(\"Test set accuracy:\", test_accuracy)\n",
    "print(\"Train set accuracy:\", train_accuracy)\n",
    "\n",
    "# Plot\n",
    "plt.figure(figsize=(10, 6))\n",
    "for i in range(len(lr_list)):\n",
    "    label = \"lr=\"+str(lr_list[i])+\" reg=\"+str(reg_list[i])\n",
    "    plt.plot(loss_list[i],label=label)\n",
    "plt.xlabel('number of iterations')\n",
    "plt.ylabel('loss')\n",
    "plt.title('loss vs. HyperParameters')\n",
    "plt.legend()\n",
    "plt.grid(which='both')\n",
    "plt.minorticks_on()\n",
    "plt.show()\n",
    "### END CODE HERE ###"
   ]
  },
  {
   "cell_type": "markdown",
   "id": "11babf15",
   "metadata": {},
   "source": [
    "## Naive Bayes\n",
    "\n",
    "In this part, you will use the `GaussianNB` classifier to classify the data. You should not change the default parameters of this classifier. First, train the classifier on the training set and then find the accuracy of it on the test set.\n",
    "\n",
    "**Question**: What is the accuracy of this method on test set?\n",
    "\n",
    "**Answer**:\n",
    "$$\n",
    "accuracy(y,y_{pred}) = \\frac{1}{m} \\sum_{i=1}^m \\mathcal{I}(\\mathbf{y_i}==\\mathbf{y_{pred}_i)\n",
    "$$\n",
    "\n",
    "Accuracy of GaussianNB on the test set: 0.9235\n"
   ]
  },
  {
   "cell_type": "code",
   "execution_count": 112,
   "id": "1ef450fb",
   "metadata": {
    "ExecuteTime": {
     "end_time": "2024-04-26T11:09:08.405378600Z",
     "start_time": "2024-04-26T11:09:08.357475100Z"
    }
   },
   "outputs": [
    {
     "name": "stdout",
     "output_type": "stream",
     "text": [
      "Accuracy of GaussianNB on the test set: 0.9235\n"
     ]
    }
   ],
   "source": [
    "### START CODE HERE ###\n",
    "X_train, X_test, y_train, y_test = train_test_split(X, Y, test_size=0.2, random_state=42)\n",
    "\n",
    "# Create an instance of the Gaussian Naive Bayes classifier\n",
    "gnb = GaussianNB()\n",
    "\n",
    "# Train the classifier on the training set\n",
    "gnb.fit(X_train, y_train)\n",
    "\n",
    "# Make predictions on the test set\n",
    "y_pred = gnb.predict(X_test)\n",
    "\n",
    "# Calculate the accuracy of the classifier on the test set\n",
    "accuracy = accuracy_score(y_test, y_pred)\n",
    "\n",
    "print(\"Accuracy of GaussianNB on the test set:\", accuracy)\n",
    "\n",
    "### END CODE HERE ###"
   ]
  },
  {
   "cell_type": "markdown",
   "id": "b371657d",
   "metadata": {},
   "source": [
    "## LDA (Linear Discriminant Analysis)\n",
    "\n",
    "In this part, you will use the `LinearDiscriminantAnalysis` classifier to classify the data. You should not change the default parameters of this classifier. First, train the classifier on the training set and then find the accuracy of it on the test set.\n",
    "\n",
    "**Question**: What is the accuracy of this method on test set?\n",
    "\n",
    "**Answer**:\n",
    "$$\n",
    "accuracy(y,y_{pred}) = \\frac{1}{m} \\sum_{i=1}^m \\mathcal{I}(\\mathbf{y_i}==\\mathbf{y_{pred}_i)\n",
    "$$\n",
    "\n",
    "Accuracy of GaussianNB on the test set: 0.9685"
   ]
  },
  {
   "cell_type": "code",
   "execution_count": 114,
   "id": "92cc8743",
   "metadata": {
    "ExecuteTime": {
     "end_time": "2024-04-26T11:29:40.156585Z",
     "start_time": "2024-04-26T11:29:40.099234900Z"
    }
   },
   "outputs": [
    {
     "name": "stdout",
     "output_type": "stream",
     "text": [
      "Accuracy of LinearDiscriminantAnalysis on the test set: 0.9685\n"
     ]
    }
   ],
   "source": [
    "### START CODE HERE ###\n",
    "# Create an instance of the LinearDiscriminantAnalysis classifier\n",
    "lda = LinearDiscriminantAnalysis()\n",
    "\n",
    "# Train the classifier on the training set\n",
    "lda.fit(X_train, y_train)\n",
    "\n",
    "# Make predictions on the test set\n",
    "y_pred = lda.predict(X_test)\n",
    "\n",
    "# Calculate the accuracy of the classifier on the test set\n",
    "accuracy = accuracy_score(y_test, y_pred)\n",
    "\n",
    "print(\"Accuracy of LinearDiscriminantAnalysis on the test set:\", accuracy)\n",
    "### END CODE HERE ###"
   ]
  },
  {
   "cell_type": "markdown",
   "id": "47736bdf",
   "metadata": {},
   "source": [
    "## Conclution\n",
    "\n",
    "**Question**: What is the best method for classifying this dataset? What is the best accuracy on the test set?\n",
    "\n",
    "**Answer**:\n",
    "Based on the previous 3 sections, it was observed that logistic regression is the best method for classifying this dataset.\n",
    "the best accuracy = 0.97"
   ]
  }
 ],
 "metadata": {
  "kernelspec": {
   "display_name": "Python 3 (ipykernel)",
   "language": "python",
   "name": "python3"
  },
  "language_info": {
   "codemirror_mode": {
    "name": "ipython",
    "version": 3
   },
   "file_extension": ".py",
   "mimetype": "text/x-python",
   "name": "python",
   "nbconvert_exporter": "python",
   "pygments_lexer": "ipython3",
   "version": "3.9.12"
  }
 },
 "nbformat": 4,
 "nbformat_minor": 5
}
